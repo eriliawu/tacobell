{
 "cells": [
  {
   "cell_type": "markdown",
   "metadata": {},
   "source": [
    "# Import and clean restaurant data"
   ]
  },
  {
   "cell_type": "code",
   "execution_count": 4,
   "metadata": {},
   "outputs": [
    {
     "data": {
      "text/html": [
       "'C:/Users/wue04/Box Sync/tacobell'"
      ],
      "text/latex": [
       "'C:/Users/wue04/Box Sync/tacobell'"
      ],
      "text/markdown": [
       "'C:/Users/wue04/Box Sync/tacobell'"
      ],
      "text/plain": [
       "[1] \"C:/Users/wue04/Box Sync/tacobell\""
      ]
     },
     "metadata": {},
     "output_type": "display_data"
    }
   ],
   "source": [
    "getwd()\n",
    "setwd(\"raw-output\")"
   ]
  },
  {
   "cell_type": "markdown",
   "metadata": {},
   "source": [
    "### suppress warnings messages"
   ]
  },
  {
   "cell_type": "code",
   "execution_count": 5,
   "metadata": {},
   "outputs": [],
   "source": [
    "current_warning <- getOption(\"warn\")\n",
    "options(warn = -1)"
   ]
  },
  {
   "cell_type": "markdown",
   "metadata": {},
   "source": [
    "### reset warning to normal"
   ]
  },
  {
   "cell_type": "code",
   "execution_count": null,
   "metadata": {},
   "outputs": [],
   "source": [
    "options(warn = current_warning)"
   ]
  },
  {
   "cell_type": "markdown",
   "metadata": {},
   "source": [
    "### read sample data"
   ]
  },
  {
   "cell_type": "code",
   "execution_count": 37,
   "metadata": {},
   "outputs": [],
   "source": [
    "sample <- read.csv(\"restaurants.csv\", sep = \";\", header = FALSE, nrow=10, quote = \"\")\n",
    "head(sample)\n",
    "sapply(sample, class)"
   ]
  },
  {
   "cell_type": "markdown",
   "metadata": {},
   "source": [
    "### read in data"
   ]
  },
  {
   "cell_type": "code",
   "execution_count": 6,
   "metadata": {
    "scrolled": false
   },
   "outputs": [
    {
     "data": {
      "text/html": [
       "<table>\n",
       "<thead><tr><th scope=col>restid</th><th scope=col>address1</th><th scope=col>address2</th><th scope=col>address3</th><th scope=col>city</th><th scope=col>county</th><th scope=col>state</th><th scope=col>zip</th><th scope=col>lon</th><th scope=col>lat</th><th scope=col>open</th><th scope=col>tempclose</th><th scope=col>reopen</th><th scope=col>close</th></tr></thead>\n",
       "<tbody>\n",
       "\t<tr><td>36955                     </td><td>15311 ELLA BLVD           </td><td>STOP N GO/NAT'L CONV STORE</td><td>                          </td><td>HOUSTON                   </td><td>                          </td><td>TX                        </td><td>77090                     </td><td>0.0000                    </td><td>0                         </td><td>1993-05-20                </td><td>0000-00-00                </td><td>0000-00-00                </td><td>1999-12-01                </td></tr>\n",
       "\t<tr><td>38887                     </td><td>8808 BEACH BLVD           </td><td>WAL-MART                  </td><td>                          </td><td>JACKSONVILLE              </td><td>                          </td><td>FL                        </td><td>32216                     </td><td>0.0000                    </td><td>0                         </td><td>0000-00-00                </td><td>0000-00-00                </td><td>0000-00-00                </td><td>0000-00-00                </td></tr>\n",
       "\t<tr><td>49973                     </td><td>11800 ATLANTIC AVE        </td><td>                          </td><td>                          </td><td>LYNWOOD                   </td><td>                          </td><td>CA                        </td><td>90262                     </td><td>0.0000                    </td><td>0                         </td><td>1966-09-15                </td><td>0000-00-00                </td><td>0000-00-00                </td><td>1987-09-15                </td></tr>\n",
       "\t<tr><td>35069                     </td><td>601 12TH ST NW            </td><td>                          </td><td>                          </td><td>WASHINGTON                </td><td>DIST OF COLUMBIA          </td><td>DC                        </td><td>20005                     </td><td>0.0000                    </td><td>0                         </td><td>1991-03-06                </td><td>0000-00-00                </td><td>0000-00-00                </td><td>1997-08-06                </td></tr>\n",
       "\t<tr><td>41877                     </td><td>5729 WEST FRIENDLY AVENUE </td><td>WILCO-GUILFORD COLLEGE    </td><td>                          </td><td>GUILFORD COLLEGE          </td><td>                          </td><td>NC                        </td><td>27410                     </td><td>0.0000                    </td><td>0                         </td><td>1995-06-19                </td><td>0000-00-00                </td><td>0000-00-00                </td><td>1998-03-26                </td></tr>\n",
       "\t<tr><td>31941                     </td><td>28050 FORD ROAD           </td><td>**OFFSET TO BE #017105**  </td><td>                          </td><td>GARDEN CITY               </td><td>WAYNE                     </td><td>MI                        </td><td>48135                     </td><td>0.0000                    </td><td>0                         </td><td>1969-07-31                </td><td>0000-00-00                </td><td>0000-00-00                </td><td>1995-08-09                </td></tr>\n",
       "</tbody>\n",
       "</table>\n"
      ],
      "text/latex": [
       "\\begin{tabular}{r|llllllllllllll}\n",
       " restid & address1 & address2 & address3 & city & county & state & zip & lon & lat & open & tempclose & reopen & close\\\\\n",
       "\\hline\n",
       "\t 36955                      & 15311 ELLA BLVD            & STOP N GO/NAT'L CONV STORE &                            & HOUSTON                    &                            & TX                         & 77090                      & 0.0000                     & 0                          & 1993-05-20                 & 0000-00-00                 & 0000-00-00                 & 1999-12-01                \\\\\n",
       "\t 38887                      & 8808 BEACH BLVD            & WAL-MART                   &                            & JACKSONVILLE               &                            & FL                         & 32216                      & 0.0000                     & 0                          & 0000-00-00                 & 0000-00-00                 & 0000-00-00                 & 0000-00-00                \\\\\n",
       "\t 49973                      & 11800 ATLANTIC AVE         &                            &                            & LYNWOOD                    &                            & CA                         & 90262                      & 0.0000                     & 0                          & 1966-09-15                 & 0000-00-00                 & 0000-00-00                 & 1987-09-15                \\\\\n",
       "\t 35069                      & 601 12TH ST NW             &                            &                            & WASHINGTON                 & DIST OF COLUMBIA           & DC                         & 20005                      & 0.0000                     & 0                          & 1991-03-06                 & 0000-00-00                 & 0000-00-00                 & 1997-08-06                \\\\\n",
       "\t 41877                      & 5729 WEST FRIENDLY AVENUE  & WILCO-GUILFORD COLLEGE     &                            & GUILFORD COLLEGE           &                            & NC                         & 27410                      & 0.0000                     & 0                          & 1995-06-19                 & 0000-00-00                 & 0000-00-00                 & 1998-03-26                \\\\\n",
       "\t 31941                        & 28050 FORD ROAD              & **OFFSET TO BE \\#017105**   &                              & GARDEN CITY                  & WAYNE                        & MI                           & 48135                        & 0.0000                       & 0                            & 1969-07-31                   & 0000-00-00                   & 0000-00-00                   & 1995-08-09                  \\\\\n",
       "\\end{tabular}\n"
      ],
      "text/markdown": [
       "\n",
       "| restid | address1 | address2 | address3 | city | county | state | zip | lon | lat | open | tempclose | reopen | close |\n",
       "|---|---|---|---|---|---|---|---|---|---|---|---|---|---|\n",
       "| 36955                      | 15311 ELLA BLVD            | STOP N GO/NAT'L CONV STORE |                            | HOUSTON                    |                            | TX                         | 77090                      | 0.0000                     | 0                          | 1993-05-20                 | 0000-00-00                 | 0000-00-00                 | 1999-12-01                 |\n",
       "| 38887                      | 8808 BEACH BLVD            | WAL-MART                   |                            | JACKSONVILLE               |                            | FL                         | 32216                      | 0.0000                     | 0                          | 0000-00-00                 | 0000-00-00                 | 0000-00-00                 | 0000-00-00                 |\n",
       "| 49973                      | 11800 ATLANTIC AVE         |                            |                            | LYNWOOD                    |                            | CA                         | 90262                      | 0.0000                     | 0                          | 1966-09-15                 | 0000-00-00                 | 0000-00-00                 | 1987-09-15                 |\n",
       "| 35069                      | 601 12TH ST NW             |                            |                            | WASHINGTON                 | DIST OF COLUMBIA           | DC                         | 20005                      | 0.0000                     | 0                          | 1991-03-06                 | 0000-00-00                 | 0000-00-00                 | 1997-08-06                 |\n",
       "| 41877                      | 5729 WEST FRIENDLY AVENUE  | WILCO-GUILFORD COLLEGE     |                            | GUILFORD COLLEGE           |                            | NC                         | 27410                      | 0.0000                     | 0                          | 1995-06-19                 | 0000-00-00                 | 0000-00-00                 | 1998-03-26                 |\n",
       "| 31941                      | 28050 FORD ROAD            | **OFFSET TO BE #017105**   |                            | GARDEN CITY                | WAYNE                      | MI                         | 48135                      | 0.0000                     | 0                          | 1969-07-31                 | 0000-00-00                 | 0000-00-00                 | 1995-08-09                 |\n",
       "\n"
      ],
      "text/plain": [
       "  restid address1                  address2                   address3\n",
       "1 36955  15311 ELLA BLVD           STOP N GO/NAT'L CONV STORE         \n",
       "2 38887  8808 BEACH BLVD           WAL-MART                           \n",
       "3 49973  11800 ATLANTIC AVE                                           \n",
       "4 35069  601 12TH ST NW                                               \n",
       "5 41877  5729 WEST FRIENDLY AVENUE WILCO-GUILFORD COLLEGE             \n",
       "6 31941  28050 FORD ROAD           **OFFSET TO BE #017105**           \n",
       "  city             county           state zip   lon    lat open      \n",
       "1 HOUSTON                           TX    77090 0.0000 0   1993-05-20\n",
       "2 JACKSONVILLE                      FL    32216 0.0000 0   0000-00-00\n",
       "3 LYNWOOD                           CA    90262 0.0000 0   1966-09-15\n",
       "4 WASHINGTON       DIST OF COLUMBIA DC    20005 0.0000 0   1991-03-06\n",
       "5 GUILFORD COLLEGE                  NC    27410 0.0000 0   1995-06-19\n",
       "6 GARDEN CITY      WAYNE            MI    48135 0.0000 0   1969-07-31\n",
       "  tempclose  reopen     close     \n",
       "1 0000-00-00 0000-00-00 1999-12-01\n",
       "2 0000-00-00 0000-00-00 0000-00-00\n",
       "3 0000-00-00 0000-00-00 1987-09-15\n",
       "4 0000-00-00 0000-00-00 1997-08-06\n",
       "5 0000-00-00 0000-00-00 1998-03-26\n",
       "6 0000-00-00 0000-00-00 1995-08-09"
      ]
     },
     "metadata": {},
     "output_type": "display_data"
    },
    {
     "data": {
      "text/html": [
       "16978"
      ],
      "text/latex": [
       "16978"
      ],
      "text/markdown": [
       "16978"
      ],
      "text/plain": [
       "[1] 16978"
      ]
     },
     "metadata": {},
     "output_type": "display_data"
    }
   ],
   "source": [
    "# clean up restaurants\n",
    "restaurants <- read.csv(\"restaurants.csv\", sep = \";\", header = FALSE, quote = \"\", stringsAsFactors=FALSE,\n",
    "                        col.names = c(\"restid\", \"address1\", \"address2\", \"address3\",\n",
    "                                      \"city\", \"county\", \"state\", \"zip\", \"lon\", \"lat\",\n",
    "                                      \"open\", \"tempclose\", \"reopen\", \"close\"))\n",
    "head(restaurants)\n",
    "length(unique(restaurants$restid))"
   ]
  },
  {
   "cell_type": "markdown",
   "metadata": {},
   "source": [
    "### house cleaning"
   ]
  },
  {
   "cell_type": "code",
   "execution_count": 7,
   "metadata": {},
   "outputs": [
    {
     "data": {
      "text/html": [
       "<dl class=dl-horizontal>\n",
       "\t<dt>restid</dt>\n",
       "\t\t<dd>'character'</dd>\n",
       "\t<dt>address1</dt>\n",
       "\t\t<dd>'character'</dd>\n",
       "\t<dt>address2</dt>\n",
       "\t\t<dd>'character'</dd>\n",
       "\t<dt>address3</dt>\n",
       "\t\t<dd>'character'</dd>\n",
       "\t<dt>city</dt>\n",
       "\t\t<dd>'character'</dd>\n",
       "\t<dt>county</dt>\n",
       "\t\t<dd>'character'</dd>\n",
       "\t<dt>state</dt>\n",
       "\t\t<dd>'character'</dd>\n",
       "\t<dt>zip</dt>\n",
       "\t\t<dd>'character'</dd>\n",
       "\t<dt>lon</dt>\n",
       "\t\t<dd>'character'</dd>\n",
       "\t<dt>lat</dt>\n",
       "\t\t<dd>'numeric'</dd>\n",
       "\t<dt>open</dt>\n",
       "\t\t<dd>'character'</dd>\n",
       "\t<dt>tempclose</dt>\n",
       "\t\t<dd>'character'</dd>\n",
       "\t<dt>reopen</dt>\n",
       "\t\t<dd>'character'</dd>\n",
       "\t<dt>close</dt>\n",
       "\t\t<dd>'character'</dd>\n",
       "</dl>\n"
      ],
      "text/latex": [
       "\\begin{description*}\n",
       "\\item[restid] 'character'\n",
       "\\item[address1] 'character'\n",
       "\\item[address2] 'character'\n",
       "\\item[address3] 'character'\n",
       "\\item[city] 'character'\n",
       "\\item[county] 'character'\n",
       "\\item[state] 'character'\n",
       "\\item[zip] 'character'\n",
       "\\item[lon] 'character'\n",
       "\\item[lat] 'numeric'\n",
       "\\item[open] 'character'\n",
       "\\item[tempclose] 'character'\n",
       "\\item[reopen] 'character'\n",
       "\\item[close] 'character'\n",
       "\\end{description*}\n"
      ],
      "text/markdown": [
       "restid\n",
       ":   'character'address1\n",
       ":   'character'address2\n",
       ":   'character'address3\n",
       ":   'character'city\n",
       ":   'character'county\n",
       ":   'character'state\n",
       ":   'character'zip\n",
       ":   'character'lon\n",
       ":   'character'lat\n",
       ":   'numeric'open\n",
       ":   'character'tempclose\n",
       ":   'character'reopen\n",
       ":   'character'close\n",
       ":   'character'\n",
       "\n"
      ],
      "text/plain": [
       "     restid    address1    address2    address3        city      county \n",
       "\"character\" \"character\" \"character\" \"character\" \"character\" \"character\" \n",
       "      state         zip         lon         lat        open   tempclose \n",
       "\"character\" \"character\" \"character\"   \"numeric\" \"character\" \"character\" \n",
       "     reopen       close \n",
       "\"character\" \"character\" "
      ]
     },
     "metadata": {},
     "output_type": "display_data"
    },
    {
     "data": {
      "text/html": [
       "<table>\n",
       "<thead><tr><th></th><th scope=col>restid</th><th scope=col>address1</th><th scope=col>address2</th><th scope=col>address3</th><th scope=col>city</th><th scope=col>county</th><th scope=col>state</th><th scope=col>zip</th><th scope=col>lon</th><th scope=col>lat</th><th scope=col>open</th><th scope=col>tempclose</th><th scope=col>reopen</th><th scope=col>close</th></tr></thead>\n",
       "<tbody>\n",
       "\t<tr><th scope=row>100</th><td> 39163                     </td><td>300 CLEVELAND              </td><td>                           </td><td>                           </td><td>MUSCATINE                  </td><td>MUSCATINE                  </td><td>IA                         </td><td>52761                      </td><td> -91.0295                  </td><td>41.4524                    </td><td>1999-03-03                 </td><td>2010-10-23                 </td><td>2010-11-19                 </td><td>0000-00-00                 </td></tr>\n",
       "\t<tr><th scope=row>101</th><td>151667                     </td><td>650 COLUMBIA AVENUE        </td><td>EXXON STATION              </td><td>RAINBOW GAS GARDEN         </td><td>CHAPIN                     </td><td>LEXINGTON                  </td><td>SC                         </td><td>29036                      </td><td> -81.3245                  </td><td>34.1761                    </td><td>2009-05-22                 </td><td>0000-00-00                 </td><td>0000-00-00                 </td><td>0000-00-00                 </td></tr>\n",
       "\t<tr><th scope=row>102</th><td>150379                     </td><td>13350 DALLAS PARKWAY       </td><td>GALLERIA DALLAS            </td><td>LEVEL 3 FOOD PLACE         </td><td>DALLAS                     </td><td>DALLAS                     </td><td>TX                         </td><td>75240                      </td><td> -96.8208                  </td><td>32.9294                    </td><td>2006-10-16                 </td><td>0000-00-00                 </td><td>0000-00-00                 </td><td>2013-05-29                 </td></tr>\n",
       "\t<tr><th scope=row>103</th><td>109698                     </td><td>3140 FM 1960 W             </td><td>                           </td><td>                           </td><td>HUMBLE                     </td><td>HARRIS                     </td><td>TX                         </td><td>77338                      </td><td> -95.3769                  </td><td>30.0195                    </td><td>2003-02-19                 </td><td>0000-00-00                 </td><td>0000-00-00                 </td><td>2007-06-01                 </td></tr>\n",
       "\t<tr><th scope=row>104</th><td> 34241                     </td><td>3800 NORTHLAKE BLVD        </td><td>                           </td><td>                           </td><td>PALM BEACH GARDENS         </td><td>PALM BEACH                 </td><td>FL                         </td><td>33410                      </td><td> -80.0947                  </td><td>26.8083                    </td><td>1987-11-02                 </td><td>2010-05-18                 </td><td>2010-05-21                 </td><td>0000-00-00                 </td></tr>\n",
       "\t<tr><th scope=row>105</th><td>118438                     </td><td>1075 W 4TH ST              </td><td>                           </td><td>                           </td><td>RENO                       </td><td>WASHOE                     </td><td>NV                         </td><td>89503-5103                 </td><td>-119.8280                  </td><td>39.5266                    </td><td>2001-11-30                 </td><td>0000-00-00                 </td><td>0000-00-00                 </td><td>0000-00-00                 </td></tr>\n",
       "\t<tr><th scope=row>106</th><td>150425                     </td><td>1850 MEMORIAL LANE         </td><td>                           </td><td>                           </td><td>WOOD RIVER                 </td><td>MADISON                    </td><td>IL                         </td><td>62095                      </td><td> -90.0679                  </td><td>38.8669                    </td><td>2006-08-23                 </td><td>0000-00-00                 </td><td>0000-00-00                 </td><td>2012-02-21                 </td></tr>\n",
       "\t<tr><th scope=row>107</th><td>109744                     </td><td>942 SOUTHERN BLVD          </td><td>                           </td><td>                           </td><td>BRONX                      </td><td>BRONX                      </td><td>NY                         </td><td>10459                      </td><td> -73.8918                  </td><td>40.8210                    </td><td>2000-02-01                 </td><td>0000-00-00                 </td><td>0000-00-00                 </td><td>2008-10-10                 </td></tr>\n",
       "\t<tr><th scope=row>108</th><td> 34287                     </td><td>4152 STATE RT 34           </td><td>                           </td><td>                           </td><td>HURRICANE                  </td><td>PUTNAM                     </td><td>WV                         </td><td>25526                      </td><td> -81.9381                  </td><td>38.4528                    </td><td>1987-12-16                 </td><td>2012-06-29                 </td><td>2012-07-01                 </td><td>0000-00-00                 </td></tr>\n",
       "\t<tr><th scope=row>109</th><td> 43349                     </td><td>2075 BARNETT SHOALS ROAD   </td><td>                           </td><td>                           </td><td>ATHENS                     </td><td>CLARKE                     </td><td>GA                         </td><td>30605                      </td><td> -83.3406                  </td><td>33.9233                    </td><td>1998-12-09                 </td><td>0000-00-00                 </td><td>0000-00-00                 </td><td>2014-06-24                 </td></tr>\n",
       "\t<tr><th scope=row>110</th><td> 33413                     </td><td>212 THOMAS RD              </td><td>                           </td><td>                           </td><td>WEST MONROE                </td><td>OUACHITA                   </td><td>LA                         </td><td>71291                      </td><td> -92.1577                  </td><td>32.5106                    </td><td>1985-03-27                 </td><td>2004-12-24                 </td><td>2005-05-15                 </td><td>0000-00-00                 </td></tr>\n",
       "\t<tr><th scope=row>111</th><td> 35253                     </td><td>760 E MAIN ST.             </td><td>                           </td><td>                           </td><td>MERIDEN                    </td><td>NEW HAVEN                  </td><td>CT                         </td><td>06450                      </td><td> -72.7780                  </td><td>41.5292                    </td><td>2001-04-25                 </td><td>0000-00-00                 </td><td>0000-00-00                 </td><td>2013-02-26                 </td></tr>\n",
       "\t<tr><th scope=row>112</th><td> 45189                     </td><td>8249 N STEMMONS FWY.       </td><td>                           </td><td>                           </td><td>DALLAS                     </td><td>DALLAS                     </td><td>TX                         </td><td>75247-4107                 </td><td> -96.8727                  </td><td>32.8259                    </td><td>2002-05-15                 </td><td>0000-00-00                 </td><td>0000-00-00                 </td><td>2011-12-06                 </td></tr>\n",
       "\t<tr><th scope=row>113</th><td>151391                     </td><td>17610 US HIGHWAY 31 N      </td><td>                           </td><td>                           </td><td>WESTFIELD                  </td><td>HAMILTON                   </td><td>IN                         </td><td>46074-9413                 </td><td> -86.1356                  </td><td>40.0431                    </td><td>2008-12-23                 </td><td>0000-00-00                 </td><td>0000-00-00                 </td><td>2012-12-18                 </td></tr>\n",
       "\t<tr><th scope=row>114</th><td> 44499                     </td><td>101 SW FRONT STREET        </td><td>BRITISH PETROLEUM          </td><td>                           </td><td>BOARDMAN                   </td><td>                           </td><td>OR                         </td><td>97818                      </td><td>   0.0000                  </td><td> 0.0000                    </td><td>2001-03-01                 </td><td>0000-00-00                 </td><td>0000-00-00                 </td><td>2002-04-20                 </td></tr>\n",
       "\t<tr><th scope=row>115</th><td>150701                     </td><td>2201 STATE ROAD HWY 60 EAST</td><td>                           </td><td>                           </td><td>VALRICO                    </td><td>HILLSBOROUGH               </td><td>FL                         </td><td>33594                      </td><td>   0.0000                  </td><td> 0.0000                    </td><td>0000-00-00                 </td><td>0000-00-00                 </td><td>0000-00-00                 </td><td>2006-11-10                 </td></tr>\n",
       "\t<tr><th scope=row>116</th><td> 34563                     </td><td>2995 COOK ROAD             </td><td>                           </td><td>                           </td><td>WEST BRANCH                </td><td>OGEMAW                     </td><td>MI                         </td><td>48661                      </td><td> -84.2249                  </td><td>44.2488                    </td><td>1988-12-13                 </td><td>2008-02-03                 </td><td>2008-05-14                 </td><td>0000-00-00                 </td></tr>\n",
       "\t<tr><th scope=row>117</th><td>150287                     </td><td>2105 CHESTER DRIVE         </td><td>                           </td><td>                           </td><td>RICHMOND                   </td><td>WAYNE                      </td><td>IN                         </td><td>47374                      </td><td> -84.8881                  </td><td>39.8618                    </td><td>2006-04-19                 </td><td>0000-00-00                 </td><td>0000-00-00                 </td><td>0000-00-00                 </td></tr>\n",
       "\t<tr><th scope=row>118</th><td> 34149                     </td><td>696 E ST                   </td><td>                           </td><td>                           </td><td>CHULA VISTA                </td><td>SAN DIEGO                  </td><td>CA                         </td><td>91910                      </td><td>-117.0970                  </td><td>32.6406                    </td><td>2001-06-13                 </td><td>0000-00-00                 </td><td>0000-00-00                 </td><td>2009-04-24                 </td></tr>\n",
       "\t<tr><th scope=row>119</th><td>119542                     </td><td>1300 GULFGATE CENTER MALL  </td><td>                           </td><td>                           </td><td>HOUSTON                    </td><td>HARRIS                     </td><td>TX                         </td><td>77087                      </td><td> -95.2974                  </td><td>29.6983                    </td><td>2001-11-15                 </td><td>2008-09-13                 </td><td>2008-09-19                 </td><td>0000-00-00                 </td></tr>\n",
       "\t<tr><th scope=row>120</th><td> 33321                     </td><td>1345 N. MAIN ST.           </td><td>                           </td><td>                           </td><td>SALINAS                    </td><td>MONTEREY                   </td><td>CA                         </td><td>93906                      </td><td>-121.6520                  </td><td>36.7032                    </td><td>1984-12-06                 </td><td>2006-10-24                 </td><td>2007-02-18                 </td><td>2007-06-19                 </td></tr>\n",
       "</tbody>\n",
       "</table>\n"
      ],
      "text/latex": [
       "\\begin{tabular}{r|llllllllllllll}\n",
       "  & restid & address1 & address2 & address3 & city & county & state & zip & lon & lat & open & tempclose & reopen & close\\\\\n",
       "\\hline\n",
       "\t100 &  39163                      & 300 CLEVELAND               &                             &                             & MUSCATINE                   & MUSCATINE                   & IA                          & 52761                       &  -91.0295                   & 41.4524                     & 1999-03-03                  & 2010-10-23                  & 2010-11-19                  & 0000-00-00                 \\\\\n",
       "\t101 & 151667                      & 650 COLUMBIA AVENUE         & EXXON STATION               & RAINBOW GAS GARDEN          & CHAPIN                      & LEXINGTON                   & SC                          & 29036                       &  -81.3245                   & 34.1761                     & 2009-05-22                  & 0000-00-00                  & 0000-00-00                  & 0000-00-00                 \\\\\n",
       "\t102 & 150379                      & 13350 DALLAS PARKWAY        & GALLERIA DALLAS             & LEVEL 3 FOOD PLACE          & DALLAS                      & DALLAS                      & TX                          & 75240                       &  -96.8208                   & 32.9294                     & 2006-10-16                  & 0000-00-00                  & 0000-00-00                  & 2013-05-29                 \\\\\n",
       "\t103 & 109698                      & 3140 FM 1960 W              &                             &                             & HUMBLE                      & HARRIS                      & TX                          & 77338                       &  -95.3769                   & 30.0195                     & 2003-02-19                  & 0000-00-00                  & 0000-00-00                  & 2007-06-01                 \\\\\n",
       "\t104 &  34241                      & 3800 NORTHLAKE BLVD         &                             &                             & PALM BEACH GARDENS          & PALM BEACH                  & FL                          & 33410                       &  -80.0947                   & 26.8083                     & 1987-11-02                  & 2010-05-18                  & 2010-05-21                  & 0000-00-00                 \\\\\n",
       "\t105 & 118438                      & 1075 W 4TH ST               &                             &                             & RENO                        & WASHOE                      & NV                          & 89503-5103                  & -119.8280                   & 39.5266                     & 2001-11-30                  & 0000-00-00                  & 0000-00-00                  & 0000-00-00                 \\\\\n",
       "\t106 & 150425                      & 1850 MEMORIAL LANE          &                             &                             & WOOD RIVER                  & MADISON                     & IL                          & 62095                       &  -90.0679                   & 38.8669                     & 2006-08-23                  & 0000-00-00                  & 0000-00-00                  & 2012-02-21                 \\\\\n",
       "\t107 & 109744                      & 942 SOUTHERN BLVD           &                             &                             & BRONX                       & BRONX                       & NY                          & 10459                       &  -73.8918                   & 40.8210                     & 2000-02-01                  & 0000-00-00                  & 0000-00-00                  & 2008-10-10                 \\\\\n",
       "\t108 &  34287                      & 4152 STATE RT 34            &                             &                             & HURRICANE                   & PUTNAM                      & WV                          & 25526                       &  -81.9381                   & 38.4528                     & 1987-12-16                  & 2012-06-29                  & 2012-07-01                  & 0000-00-00                 \\\\\n",
       "\t109 &  43349                      & 2075 BARNETT SHOALS ROAD    &                             &                             & ATHENS                      & CLARKE                      & GA                          & 30605                       &  -83.3406                   & 33.9233                     & 1998-12-09                  & 0000-00-00                  & 0000-00-00                  & 2014-06-24                 \\\\\n",
       "\t110 &  33413                      & 212 THOMAS RD               &                             &                             & WEST MONROE                 & OUACHITA                    & LA                          & 71291                       &  -92.1577                   & 32.5106                     & 1985-03-27                  & 2004-12-24                  & 2005-05-15                  & 0000-00-00                 \\\\\n",
       "\t111 &  35253                      & 760 E MAIN ST.              &                             &                             & MERIDEN                     & NEW HAVEN                   & CT                          & 06450                       &  -72.7780                   & 41.5292                     & 2001-04-25                  & 0000-00-00                  & 0000-00-00                  & 2013-02-26                 \\\\\n",
       "\t112 &  45189                      & 8249 N STEMMONS FWY.        &                             &                             & DALLAS                      & DALLAS                      & TX                          & 75247-4107                  &  -96.8727                   & 32.8259                     & 2002-05-15                  & 0000-00-00                  & 0000-00-00                  & 2011-12-06                 \\\\\n",
       "\t113 & 151391                      & 17610 US HIGHWAY 31 N       &                             &                             & WESTFIELD                   & HAMILTON                    & IN                          & 46074-9413                  &  -86.1356                   & 40.0431                     & 2008-12-23                  & 0000-00-00                  & 0000-00-00                  & 2012-12-18                 \\\\\n",
       "\t114 &  44499                      & 101 SW FRONT STREET         & BRITISH PETROLEUM           &                             & BOARDMAN                    &                             & OR                          & 97818                       &    0.0000                   &  0.0000                     & 2001-03-01                  & 0000-00-00                  & 0000-00-00                  & 2002-04-20                 \\\\\n",
       "\t115 & 150701                      & 2201 STATE ROAD HWY 60 EAST &                             &                             & VALRICO                     & HILLSBOROUGH                & FL                          & 33594                       &    0.0000                   &  0.0000                     & 0000-00-00                  & 0000-00-00                  & 0000-00-00                  & 2006-11-10                 \\\\\n",
       "\t116 &  34563                      & 2995 COOK ROAD              &                             &                             & WEST BRANCH                 & OGEMAW                      & MI                          & 48661                       &  -84.2249                   & 44.2488                     & 1988-12-13                  & 2008-02-03                  & 2008-05-14                  & 0000-00-00                 \\\\\n",
       "\t117 & 150287                      & 2105 CHESTER DRIVE          &                             &                             & RICHMOND                    & WAYNE                       & IN                          & 47374                       &  -84.8881                   & 39.8618                     & 2006-04-19                  & 0000-00-00                  & 0000-00-00                  & 0000-00-00                 \\\\\n",
       "\t118 &  34149                      & 696 E ST                    &                             &                             & CHULA VISTA                 & SAN DIEGO                   & CA                          & 91910                       & -117.0970                   & 32.6406                     & 2001-06-13                  & 0000-00-00                  & 0000-00-00                  & 2009-04-24                 \\\\\n",
       "\t119 & 119542                      & 1300 GULFGATE CENTER MALL   &                             &                             & HOUSTON                     & HARRIS                      & TX                          & 77087                       &  -95.2974                   & 29.6983                     & 2001-11-15                  & 2008-09-13                  & 2008-09-19                  & 0000-00-00                 \\\\\n",
       "\t120 &  33321                      & 1345 N. MAIN ST.            &                             &                             & SALINAS                     & MONTEREY                    & CA                          & 93906                       & -121.6520                   & 36.7032                     & 1984-12-06                  & 2006-10-24                  & 2007-02-18                  & 2007-06-19                 \\\\\n",
       "\\end{tabular}\n"
      ],
      "text/markdown": [
       "\n",
       "| <!--/--> | restid | address1 | address2 | address3 | city | county | state | zip | lon | lat | open | tempclose | reopen | close |\n",
       "|---|---|---|---|---|---|---|---|---|---|---|---|---|---|---|\n",
       "| 100 |  39163                      | 300 CLEVELAND               |                             |                             | MUSCATINE                   | MUSCATINE                   | IA                          | 52761                       |  -91.0295                   | 41.4524                     | 1999-03-03                  | 2010-10-23                  | 2010-11-19                  | 0000-00-00                  |\n",
       "| 101 | 151667                      | 650 COLUMBIA AVENUE         | EXXON STATION               | RAINBOW GAS GARDEN          | CHAPIN                      | LEXINGTON                   | SC                          | 29036                       |  -81.3245                   | 34.1761                     | 2009-05-22                  | 0000-00-00                  | 0000-00-00                  | 0000-00-00                  |\n",
       "| 102 | 150379                      | 13350 DALLAS PARKWAY        | GALLERIA DALLAS             | LEVEL 3 FOOD PLACE          | DALLAS                      | DALLAS                      | TX                          | 75240                       |  -96.8208                   | 32.9294                     | 2006-10-16                  | 0000-00-00                  | 0000-00-00                  | 2013-05-29                  |\n",
       "| 103 | 109698                      | 3140 FM 1960 W              |                             |                             | HUMBLE                      | HARRIS                      | TX                          | 77338                       |  -95.3769                   | 30.0195                     | 2003-02-19                  | 0000-00-00                  | 0000-00-00                  | 2007-06-01                  |\n",
       "| 104 |  34241                      | 3800 NORTHLAKE BLVD         |                             |                             | PALM BEACH GARDENS          | PALM BEACH                  | FL                          | 33410                       |  -80.0947                   | 26.8083                     | 1987-11-02                  | 2010-05-18                  | 2010-05-21                  | 0000-00-00                  |\n",
       "| 105 | 118438                      | 1075 W 4TH ST               |                             |                             | RENO                        | WASHOE                      | NV                          | 89503-5103                  | -119.8280                   | 39.5266                     | 2001-11-30                  | 0000-00-00                  | 0000-00-00                  | 0000-00-00                  |\n",
       "| 106 | 150425                      | 1850 MEMORIAL LANE          |                             |                             | WOOD RIVER                  | MADISON                     | IL                          | 62095                       |  -90.0679                   | 38.8669                     | 2006-08-23                  | 0000-00-00                  | 0000-00-00                  | 2012-02-21                  |\n",
       "| 107 | 109744                      | 942 SOUTHERN BLVD           |                             |                             | BRONX                       | BRONX                       | NY                          | 10459                       |  -73.8918                   | 40.8210                     | 2000-02-01                  | 0000-00-00                  | 0000-00-00                  | 2008-10-10                  |\n",
       "| 108 |  34287                      | 4152 STATE RT 34            |                             |                             | HURRICANE                   | PUTNAM                      | WV                          | 25526                       |  -81.9381                   | 38.4528                     | 1987-12-16                  | 2012-06-29                  | 2012-07-01                  | 0000-00-00                  |\n",
       "| 109 |  43349                      | 2075 BARNETT SHOALS ROAD    |                             |                             | ATHENS                      | CLARKE                      | GA                          | 30605                       |  -83.3406                   | 33.9233                     | 1998-12-09                  | 0000-00-00                  | 0000-00-00                  | 2014-06-24                  |\n",
       "| 110 |  33413                      | 212 THOMAS RD               |                             |                             | WEST MONROE                 | OUACHITA                    | LA                          | 71291                       |  -92.1577                   | 32.5106                     | 1985-03-27                  | 2004-12-24                  | 2005-05-15                  | 0000-00-00                  |\n",
       "| 111 |  35253                      | 760 E MAIN ST.              |                             |                             | MERIDEN                     | NEW HAVEN                   | CT                          | 06450                       |  -72.7780                   | 41.5292                     | 2001-04-25                  | 0000-00-00                  | 0000-00-00                  | 2013-02-26                  |\n",
       "| 112 |  45189                      | 8249 N STEMMONS FWY.        |                             |                             | DALLAS                      | DALLAS                      | TX                          | 75247-4107                  |  -96.8727                   | 32.8259                     | 2002-05-15                  | 0000-00-00                  | 0000-00-00                  | 2011-12-06                  |\n",
       "| 113 | 151391                      | 17610 US HIGHWAY 31 N       |                             |                             | WESTFIELD                   | HAMILTON                    | IN                          | 46074-9413                  |  -86.1356                   | 40.0431                     | 2008-12-23                  | 0000-00-00                  | 0000-00-00                  | 2012-12-18                  |\n",
       "| 114 |  44499                      | 101 SW FRONT STREET         | BRITISH PETROLEUM           |                             | BOARDMAN                    |                             | OR                          | 97818                       |    0.0000                   |  0.0000                     | 2001-03-01                  | 0000-00-00                  | 0000-00-00                  | 2002-04-20                  |\n",
       "| 115 | 150701                      | 2201 STATE ROAD HWY 60 EAST |                             |                             | VALRICO                     | HILLSBOROUGH                | FL                          | 33594                       |    0.0000                   |  0.0000                     | 0000-00-00                  | 0000-00-00                  | 0000-00-00                  | 2006-11-10                  |\n",
       "| 116 |  34563                      | 2995 COOK ROAD              |                             |                             | WEST BRANCH                 | OGEMAW                      | MI                          | 48661                       |  -84.2249                   | 44.2488                     | 1988-12-13                  | 2008-02-03                  | 2008-05-14                  | 0000-00-00                  |\n",
       "| 117 | 150287                      | 2105 CHESTER DRIVE          |                             |                             | RICHMOND                    | WAYNE                       | IN                          | 47374                       |  -84.8881                   | 39.8618                     | 2006-04-19                  | 0000-00-00                  | 0000-00-00                  | 0000-00-00                  |\n",
       "| 118 |  34149                      | 696 E ST                    |                             |                             | CHULA VISTA                 | SAN DIEGO                   | CA                          | 91910                       | -117.0970                   | 32.6406                     | 2001-06-13                  | 0000-00-00                  | 0000-00-00                  | 2009-04-24                  |\n",
       "| 119 | 119542                      | 1300 GULFGATE CENTER MALL   |                             |                             | HOUSTON                     | HARRIS                      | TX                          | 77087                       |  -95.2974                   | 29.6983                     | 2001-11-15                  | 2008-09-13                  | 2008-09-19                  | 0000-00-00                  |\n",
       "| 120 |  33321                      | 1345 N. MAIN ST.            |                             |                             | SALINAS                     | MONTEREY                    | CA                          | 93906                       | -121.6520                   | 36.7032                     | 1984-12-06                  | 2006-10-24                  | 2007-02-18                  | 2007-06-19                  |\n",
       "\n"
      ],
      "text/plain": [
       "    restid address1                    address2          address3          \n",
       "100  39163 300 CLEVELAND                                                   \n",
       "101 151667 650 COLUMBIA AVENUE         EXXON STATION     RAINBOW GAS GARDEN\n",
       "102 150379 13350 DALLAS PARKWAY        GALLERIA DALLAS   LEVEL 3 FOOD PLACE\n",
       "103 109698 3140 FM 1960 W                                                  \n",
       "104  34241 3800 NORTHLAKE BLVD                                             \n",
       "105 118438 1075 W 4TH ST                                                   \n",
       "106 150425 1850 MEMORIAL LANE                                              \n",
       "107 109744 942 SOUTHERN BLVD                                               \n",
       "108  34287 4152 STATE RT 34                                                \n",
       "109  43349 2075 BARNETT SHOALS ROAD                                        \n",
       "110  33413 212 THOMAS RD                                                   \n",
       "111  35253 760 E MAIN ST.                                                  \n",
       "112  45189 8249 N STEMMONS FWY.                                            \n",
       "113 151391 17610 US HIGHWAY 31 N                                           \n",
       "114  44499 101 SW FRONT STREET         BRITISH PETROLEUM                   \n",
       "115 150701 2201 STATE ROAD HWY 60 EAST                                     \n",
       "116  34563 2995 COOK ROAD                                                  \n",
       "117 150287 2105 CHESTER DRIVE                                              \n",
       "118  34149 696 E ST                                                        \n",
       "119 119542 1300 GULFGATE CENTER MALL                                       \n",
       "120  33321 1345 N. MAIN ST.                                                \n",
       "    city               county       state zip        lon       lat    \n",
       "100 MUSCATINE          MUSCATINE    IA    52761       -91.0295 41.4524\n",
       "101 CHAPIN             LEXINGTON    SC    29036       -81.3245 34.1761\n",
       "102 DALLAS             DALLAS       TX    75240       -96.8208 32.9294\n",
       "103 HUMBLE             HARRIS       TX    77338       -95.3769 30.0195\n",
       "104 PALM BEACH GARDENS PALM BEACH   FL    33410       -80.0947 26.8083\n",
       "105 RENO               WASHOE       NV    89503-5103 -119.8280 39.5266\n",
       "106 WOOD RIVER         MADISON      IL    62095       -90.0679 38.8669\n",
       "107 BRONX              BRONX        NY    10459       -73.8918 40.8210\n",
       "108 HURRICANE          PUTNAM       WV    25526       -81.9381 38.4528\n",
       "109 ATHENS             CLARKE       GA    30605       -83.3406 33.9233\n",
       "110 WEST MONROE        OUACHITA     LA    71291       -92.1577 32.5106\n",
       "111 MERIDEN            NEW HAVEN    CT    06450       -72.7780 41.5292\n",
       "112 DALLAS             DALLAS       TX    75247-4107  -96.8727 32.8259\n",
       "113 WESTFIELD          HAMILTON     IN    46074-9413  -86.1356 40.0431\n",
       "114 BOARDMAN                        OR    97818         0.0000  0.0000\n",
       "115 VALRICO            HILLSBOROUGH FL    33594         0.0000  0.0000\n",
       "116 WEST BRANCH        OGEMAW       MI    48661       -84.2249 44.2488\n",
       "117 RICHMOND           WAYNE        IN    47374       -84.8881 39.8618\n",
       "118 CHULA VISTA        SAN DIEGO    CA    91910      -117.0970 32.6406\n",
       "119 HOUSTON            HARRIS       TX    77087       -95.2974 29.6983\n",
       "120 SALINAS            MONTEREY     CA    93906      -121.6520 36.7032\n",
       "    open       tempclose  reopen     close     \n",
       "100 1999-03-03 2010-10-23 2010-11-19 0000-00-00\n",
       "101 2009-05-22 0000-00-00 0000-00-00 0000-00-00\n",
       "102 2006-10-16 0000-00-00 0000-00-00 2013-05-29\n",
       "103 2003-02-19 0000-00-00 0000-00-00 2007-06-01\n",
       "104 1987-11-02 2010-05-18 2010-05-21 0000-00-00\n",
       "105 2001-11-30 0000-00-00 0000-00-00 0000-00-00\n",
       "106 2006-08-23 0000-00-00 0000-00-00 2012-02-21\n",
       "107 2000-02-01 0000-00-00 0000-00-00 2008-10-10\n",
       "108 1987-12-16 2012-06-29 2012-07-01 0000-00-00\n",
       "109 1998-12-09 0000-00-00 0000-00-00 2014-06-24\n",
       "110 1985-03-27 2004-12-24 2005-05-15 0000-00-00\n",
       "111 2001-04-25 0000-00-00 0000-00-00 2013-02-26\n",
       "112 2002-05-15 0000-00-00 0000-00-00 2011-12-06\n",
       "113 2008-12-23 0000-00-00 0000-00-00 2012-12-18\n",
       "114 2001-03-01 0000-00-00 0000-00-00 2002-04-20\n",
       "115 0000-00-00 0000-00-00 0000-00-00 2006-11-10\n",
       "116 1988-12-13 2008-02-03 2008-05-14 0000-00-00\n",
       "117 2006-04-19 0000-00-00 0000-00-00 0000-00-00\n",
       "118 2001-06-13 0000-00-00 0000-00-00 2009-04-24\n",
       "119 2001-11-15 2008-09-13 2008-09-19 0000-00-00\n",
       "120 1984-12-06 2006-10-24 2007-02-18 2007-06-19"
      ]
     },
     "metadata": {},
     "output_type": "display_data"
    },
    {
     "data": {
      "text/html": [
       "<dl class=dl-horizontal>\n",
       "\t<dt>restid</dt>\n",
       "\t\t<dd>'numeric'</dd>\n",
       "\t<dt>address1</dt>\n",
       "\t\t<dd>'character'</dd>\n",
       "\t<dt>address2</dt>\n",
       "\t\t<dd>'character'</dd>\n",
       "\t<dt>address3</dt>\n",
       "\t\t<dd>'character'</dd>\n",
       "\t<dt>city</dt>\n",
       "\t\t<dd>'character'</dd>\n",
       "\t<dt>county</dt>\n",
       "\t\t<dd>'character'</dd>\n",
       "\t<dt>state</dt>\n",
       "\t\t<dd>'character'</dd>\n",
       "\t<dt>zip</dt>\n",
       "\t\t<dd>'character'</dd>\n",
       "\t<dt>lon</dt>\n",
       "\t\t<dd>'numeric'</dd>\n",
       "\t<dt>lat</dt>\n",
       "\t\t<dd>'numeric'</dd>\n",
       "\t<dt>open</dt>\n",
       "\t\t<dd>'Date'</dd>\n",
       "\t<dt>tempclose</dt>\n",
       "\t\t<dd>'Date'</dd>\n",
       "\t<dt>reopen</dt>\n",
       "\t\t<dd>'Date'</dd>\n",
       "\t<dt>close</dt>\n",
       "\t\t<dd>'Date'</dd>\n",
       "</dl>\n"
      ],
      "text/latex": [
       "\\begin{description*}\n",
       "\\item[restid] 'numeric'\n",
       "\\item[address1] 'character'\n",
       "\\item[address2] 'character'\n",
       "\\item[address3] 'character'\n",
       "\\item[city] 'character'\n",
       "\\item[county] 'character'\n",
       "\\item[state] 'character'\n",
       "\\item[zip] 'character'\n",
       "\\item[lon] 'numeric'\n",
       "\\item[lat] 'numeric'\n",
       "\\item[open] 'Date'\n",
       "\\item[tempclose] 'Date'\n",
       "\\item[reopen] 'Date'\n",
       "\\item[close] 'Date'\n",
       "\\end{description*}\n"
      ],
      "text/markdown": [
       "restid\n",
       ":   'numeric'address1\n",
       ":   'character'address2\n",
       ":   'character'address3\n",
       ":   'character'city\n",
       ":   'character'county\n",
       ":   'character'state\n",
       ":   'character'zip\n",
       ":   'character'lon\n",
       ":   'numeric'lat\n",
       ":   'numeric'open\n",
       ":   'Date'tempclose\n",
       ":   'Date'reopen\n",
       ":   'Date'close\n",
       ":   'Date'\n",
       "\n"
      ],
      "text/plain": [
       "     restid    address1    address2    address3        city      county \n",
       "  \"numeric\" \"character\" \"character\" \"character\" \"character\" \"character\" \n",
       "      state         zip         lon         lat        open   tempclose \n",
       "\"character\" \"character\"   \"numeric\"   \"numeric\"      \"Date\"      \"Date\" \n",
       "     reopen       close \n",
       "     \"Date\"      \"Date\" "
      ]
     },
     "metadata": {},
     "output_type": "display_data"
    }
   ],
   "source": [
    "sapply(restaurants, class) # check variables types\n",
    "restaurants[, c(1, 9:10)] <- lapply(restaurants[, c(1, 9:10)], as.numeric) # convert geo coordinates to numeric\n",
    "restaurants[(100:120), ] #sanity check\n",
    "\n",
    "convert_to_date <- function(x) {\n",
    "    # replace 0000-00-00 dates as NA\n",
    "    x[x==\"0000-00-00\"] <- NA\n",
    "    # convert characters to dates\n",
    "    x <- as.Date(x)\n",
    "    return(x)\n",
    "    print(class(x))\n",
    "}\n",
    "restaurants[, 11:14] <- lapply(restaurants[, 11:14], convert_to_date)\n",
    "rm(convert_to_date)\n",
    "sapply(restaurants, class) #check classes again\n",
    "restaurants$address1[restaurants$address1==\"N/A\"] <- NA\n",
    "restaurants$city[restaurants$city==\"N/A\"] <- NA\n",
    "restaurants$zip[restaurants$zip==\"\"] <- NA\n",
    "restaurants <- restaurants[order(restaurants$open, restaurants$close), ]"
   ]
  },
  {
   "cell_type": "code",
   "execution_count": 8,
   "metadata": {
    "scrolled": true
   },
   "outputs": [
    {
     "data": {
      "text/html": [
       "<table>\n",
       "<thead><tr><th></th><th scope=col>restid</th><th scope=col>address1</th><th scope=col>city</th><th scope=col>state</th><th scope=col>zip</th><th scope=col>lon</th><th scope=col>lat</th><th scope=col>open</th><th scope=col>tempclose</th><th scope=col>reopen</th><th scope=col>close</th></tr></thead>\n",
       "<tbody>\n",
       "\t<tr><th scope=row>4910</th><td>32019                  </td><td>1529 CACHE ROAD        </td><td>LAWTON                 </td><td>OK                     </td><td>73501                  </td><td>   0.0000              </td><td> 0.0000                </td><td>1972-02-25             </td><td>NA                     </td><td>NA                     </td><td>1992-09-08             </td></tr>\n",
       "\t<tr><th scope=row>13537</th><td>32009                  </td><td>2900 FAIRVIEW RD       </td><td>COSTA MESA             </td><td>CA                     </td><td>92626                  </td><td>-117.9080              </td><td>33.6768                </td><td>1972-02-25             </td><td>NA                     </td><td>NA                     </td><td>2013-02-28             </td></tr>\n",
       "\t<tr><th scope=row>5407</th><td>50081                  </td><td>15418 LASSEN STREET    </td><td>MISSION HILLS          </td><td>CA                     </td><td>91340                  </td><td>   0.0000              </td><td> 0.0000                </td><td>1972-02-26             </td><td>NA                     </td><td>NA                     </td><td>1991-12-25             </td></tr>\n",
       "\t<tr><th scope=row>10829</th><td>32004                  </td><td>4130 BOULDER HWY.      </td><td>LAS VEGAS              </td><td>NV                     </td><td>89121                  </td><td>   0.0000              </td><td> 0.0000                </td><td>1972-05-03             </td><td>NA                     </td><td>NA                     </td><td>1992-05-22             </td></tr>\n",
       "\t<tr><th scope=row>3832</th><td>44692                  </td><td>139 SOUTHWEST DRIVE    </td><td>JONESBORO              </td><td>AR                     </td><td>72401                  </td><td> -90.7060              </td><td>35.8202                </td><td>1972-05-05             </td><td>NA                     </td><td>NA                     </td><td>NA                     </td></tr>\n",
       "\t<tr><th scope=row>14885</th><td>32016                  </td><td>923 S VAN BUREN        </td><td>ENID                   </td><td>OK                     </td><td>73701                  </td><td>   0.0000              </td><td> 0.0000                </td><td>1972-05-07             </td><td>NA                     </td><td>NA                     </td><td>1992-06-16             </td></tr>\n",
       "\t<tr><th scope=row>810</th><td>32034                  </td><td>913 EDGEBROOK BLVD.    </td><td>HOUSTON                </td><td>TX                     </td><td>77034                  </td><td>   0.0000              </td><td> 0.0000                </td><td>1972-05-26             </td><td>NA                     </td><td>NA                     </td><td>1994-03-16             </td></tr>\n",
       "\t<tr><th scope=row>3889</th><td>46532                  </td><td>707 NORTH MINNESOTA    </td><td>NEW ULM                </td><td>MN                     </td><td>56073                  </td><td> -94.4662              </td><td>44.3202                </td><td>1972-06-01             </td><td>2011-08-21             </td><td>2012-05-07             </td><td>NA                     </td></tr>\n",
       "\t<tr><th scope=row>490</th><td>32018                  </td><td>13360 EUREKA ROAD      </td><td>SOUTHGATE              </td><td>MI                     </td><td>48195                  </td><td>   0.0000              </td><td> 0.0000                </td><td>1972-06-16             </td><td>NA                     </td><td>NA                     </td><td>1992-10-18             </td></tr>\n",
       "\t<tr><th scope=row>638</th><td>32028                  </td><td>609 S MAIN ST          </td><td>LOMBARD                </td><td>IL                     </td><td>60148                  </td><td>   0.0000              </td><td> 0.0000                </td><td>1972-07-07             </td><td>NA                     </td><td>NA                     </td><td>1990-10-14             </td></tr>\n",
       "\t<tr><th scope=row>3291</th><td>44765                  </td><td>32 ADAMS STREET        </td><td>IRON RIVER             </td><td>MI                     </td><td>49935                  </td><td> -88.6387              </td><td>46.0926                </td><td>1972-07-28             </td><td>2005-10-30             </td><td>2005-11-10             </td><td>NA                     </td></tr>\n",
       "\t<tr><th scope=row>4045</th><td>32025                  </td><td>18941 SOLEDAD CANYON RD</td><td>CANYON COUNTRY         </td><td>CA                     </td><td>91351-3361             </td><td>-118.4660              </td><td>34.4160                </td><td>1972-08-02             </td><td>2011-04-02             </td><td>2011-05-12             </td><td>NA                     </td></tr>\n",
       "\t<tr><th scope=row>6459</th><td>32041                  </td><td>9066 LONGPOINT ROAD    </td><td>HOUSTON                </td><td>TX                     </td><td>77055                  </td><td>   0.0000              </td><td> 0.0000                </td><td>1972-08-08             </td><td>NA                     </td><td>NA                     </td><td>1990-02-16             </td></tr>\n",
       "\t<tr><th scope=row>3309</th><td>32031                  </td><td>3801 W. 95TH STREET    </td><td>EVERGREEN PARK         </td><td>IL                     </td><td>60642                  </td><td>   0.0000              </td><td> 0.0000                </td><td>1972-08-24             </td><td>NA                     </td><td>NA                     </td><td>1993-12-21             </td></tr>\n",
       "\t<tr><th scope=row>5646</th><td>50085                  </td><td>7043 FOREST HILL AVE.  </td><td>RICHMOND               </td><td>VA                     </td><td>23225                  </td><td>   0.0000              </td><td> 0.0000                </td><td>1972-08-25             </td><td>NA                     </td><td>NA                     </td><td>1987-09-01             </td></tr>\n",
       "\t<tr><th scope=row>1712</th><td>32039                  </td><td>6407 STEARNS AVE.      </td><td>LONG BEACH             </td><td>CA                     </td><td>90815                  </td><td>-118.1080              </td><td>33.7954                </td><td>1972-08-31             </td><td>2012-01-31             </td><td>2012-05-23             </td><td>2012-10-02             </td></tr>\n",
       "\t<tr><th scope=row>2053</th><td>32035                  </td><td>15322 SANTA GERTRUDES  </td><td>LA MIRADA              </td><td>CA                     </td><td>90638                  </td><td>   0.0000              </td><td> 0.0000                </td><td>1972-09-01             </td><td>NA                     </td><td>NA                     </td><td>1993-06-10             </td></tr>\n",
       "\t<tr><th scope=row>14337</th><td>31741                  </td><td>2210 LAKEWOOD BLVD     </td><td>LONG BEACH             </td><td>CA                     </td><td>90815                  </td><td>   0.0000              </td><td> 0.0000                </td><td>1972-09-01             </td><td>NA                     </td><td>NA                     </td><td>2001-02-23             </td></tr>\n",
       "\t<tr><th scope=row>3229</th><td>32023                  </td><td>1535 E 12 MILE RD      </td><td>MADISON HEIGHTS        </td><td>MI                     </td><td>48071                  </td><td>   0.0000              </td><td> 0.0000                </td><td>1972-09-15             </td><td>NA                     </td><td>NA                     </td><td>1995-11-01             </td></tr>\n",
       "\t<tr><th scope=row>2585</th><td>32027                  </td><td>2333 WASHTENAW AVE.    </td><td>YPSILANTI              </td><td>MI                     </td><td>48197                  </td><td>   0.0000              </td><td> 0.0000                </td><td>1972-10-06             </td><td>NA                     </td><td>NA                     </td><td>1997-01-22             </td></tr>\n",
       "\t<tr><th scope=row>5577</th><td>32045                  </td><td>300 S AIR DEPOT AVE.   </td><td>MIDWEST CITY           </td><td>OK                     </td><td>73110                  </td><td> -97.4061              </td><td>35.4618                </td><td>1972-10-11             </td><td>1997-09-16             </td><td>1997-12-01             </td><td>NA                     </td></tr>\n",
       "</tbody>\n",
       "</table>\n"
      ],
      "text/latex": [
       "\\begin{tabular}{r|lllllllllll}\n",
       "  & restid & address1 & city & state & zip & lon & lat & open & tempclose & reopen & close\\\\\n",
       "\\hline\n",
       "\t4910 & 32019                   & 1529 CACHE ROAD         & LAWTON                  & OK                      & 73501                   &    0.0000               &  0.0000                 & 1972-02-25              & NA                      & NA                      & 1992-09-08             \\\\\n",
       "\t13537 & 32009                   & 2900 FAIRVIEW RD        & COSTA MESA              & CA                      & 92626                   & -117.9080               & 33.6768                 & 1972-02-25              & NA                      & NA                      & 2013-02-28             \\\\\n",
       "\t5407 & 50081                   & 15418 LASSEN STREET     & MISSION HILLS           & CA                      & 91340                   &    0.0000               &  0.0000                 & 1972-02-26              & NA                      & NA                      & 1991-12-25             \\\\\n",
       "\t10829 & 32004                   & 4130 BOULDER HWY.       & LAS VEGAS               & NV                      & 89121                   &    0.0000               &  0.0000                 & 1972-05-03              & NA                      & NA                      & 1992-05-22             \\\\\n",
       "\t3832 & 44692                   & 139 SOUTHWEST DRIVE     & JONESBORO               & AR                      & 72401                   &  -90.7060               & 35.8202                 & 1972-05-05              & NA                      & NA                      & NA                     \\\\\n",
       "\t14885 & 32016                   & 923 S VAN BUREN         & ENID                    & OK                      & 73701                   &    0.0000               &  0.0000                 & 1972-05-07              & NA                      & NA                      & 1992-06-16             \\\\\n",
       "\t810 & 32034                   & 913 EDGEBROOK BLVD.     & HOUSTON                 & TX                      & 77034                   &    0.0000               &  0.0000                 & 1972-05-26              & NA                      & NA                      & 1994-03-16             \\\\\n",
       "\t3889 & 46532                   & 707 NORTH MINNESOTA     & NEW ULM                 & MN                      & 56073                   &  -94.4662               & 44.3202                 & 1972-06-01              & 2011-08-21              & 2012-05-07              & NA                     \\\\\n",
       "\t490 & 32018                   & 13360 EUREKA ROAD       & SOUTHGATE               & MI                      & 48195                   &    0.0000               &  0.0000                 & 1972-06-16              & NA                      & NA                      & 1992-10-18             \\\\\n",
       "\t638 & 32028                   & 609 S MAIN ST           & LOMBARD                 & IL                      & 60148                   &    0.0000               &  0.0000                 & 1972-07-07              & NA                      & NA                      & 1990-10-14             \\\\\n",
       "\t3291 & 44765                   & 32 ADAMS STREET         & IRON RIVER              & MI                      & 49935                   &  -88.6387               & 46.0926                 & 1972-07-28              & 2005-10-30              & 2005-11-10              & NA                     \\\\\n",
       "\t4045 & 32025                   & 18941 SOLEDAD CANYON RD & CANYON COUNTRY          & CA                      & 91351-3361              & -118.4660               & 34.4160                 & 1972-08-02              & 2011-04-02              & 2011-05-12              & NA                     \\\\\n",
       "\t6459 & 32041                   & 9066 LONGPOINT ROAD     & HOUSTON                 & TX                      & 77055                   &    0.0000               &  0.0000                 & 1972-08-08              & NA                      & NA                      & 1990-02-16             \\\\\n",
       "\t3309 & 32031                   & 3801 W. 95TH STREET     & EVERGREEN PARK          & IL                      & 60642                   &    0.0000               &  0.0000                 & 1972-08-24              & NA                      & NA                      & 1993-12-21             \\\\\n",
       "\t5646 & 50085                   & 7043 FOREST HILL AVE.   & RICHMOND                & VA                      & 23225                   &    0.0000               &  0.0000                 & 1972-08-25              & NA                      & NA                      & 1987-09-01             \\\\\n",
       "\t1712 & 32039                   & 6407 STEARNS AVE.       & LONG BEACH              & CA                      & 90815                   & -118.1080               & 33.7954                 & 1972-08-31              & 2012-01-31              & 2012-05-23              & 2012-10-02             \\\\\n",
       "\t2053 & 32035                   & 15322 SANTA GERTRUDES   & LA MIRADA               & CA                      & 90638                   &    0.0000               &  0.0000                 & 1972-09-01              & NA                      & NA                      & 1993-06-10             \\\\\n",
       "\t14337 & 31741                   & 2210 LAKEWOOD BLVD      & LONG BEACH              & CA                      & 90815                   &    0.0000               &  0.0000                 & 1972-09-01              & NA                      & NA                      & 2001-02-23             \\\\\n",
       "\t3229 & 32023                   & 1535 E 12 MILE RD       & MADISON HEIGHTS         & MI                      & 48071                   &    0.0000               &  0.0000                 & 1972-09-15              & NA                      & NA                      & 1995-11-01             \\\\\n",
       "\t2585 & 32027                   & 2333 WASHTENAW AVE.     & YPSILANTI               & MI                      & 48197                   &    0.0000               &  0.0000                 & 1972-10-06              & NA                      & NA                      & 1997-01-22             \\\\\n",
       "\t5577 & 32045                   & 300 S AIR DEPOT AVE.    & MIDWEST CITY            & OK                      & 73110                   &  -97.4061               & 35.4618                 & 1972-10-11              & 1997-09-16              & 1997-12-01              & NA                     \\\\\n",
       "\\end{tabular}\n"
      ],
      "text/markdown": [
       "\n",
       "| <!--/--> | restid | address1 | city | state | zip | lon | lat | open | tempclose | reopen | close |\n",
       "|---|---|---|---|---|---|---|---|---|---|---|---|\n",
       "| 4910 | 32019                   | 1529 CACHE ROAD         | LAWTON                  | OK                      | 73501                   |    0.0000               |  0.0000                 | 1972-02-25              | NA                      | NA                      | 1992-09-08              |\n",
       "| 13537 | 32009                   | 2900 FAIRVIEW RD        | COSTA MESA              | CA                      | 92626                   | -117.9080               | 33.6768                 | 1972-02-25              | NA                      | NA                      | 2013-02-28              |\n",
       "| 5407 | 50081                   | 15418 LASSEN STREET     | MISSION HILLS           | CA                      | 91340                   |    0.0000               |  0.0000                 | 1972-02-26              | NA                      | NA                      | 1991-12-25              |\n",
       "| 10829 | 32004                   | 4130 BOULDER HWY.       | LAS VEGAS               | NV                      | 89121                   |    0.0000               |  0.0000                 | 1972-05-03              | NA                      | NA                      | 1992-05-22              |\n",
       "| 3832 | 44692                   | 139 SOUTHWEST DRIVE     | JONESBORO               | AR                      | 72401                   |  -90.7060               | 35.8202                 | 1972-05-05              | NA                      | NA                      | NA                      |\n",
       "| 14885 | 32016                   | 923 S VAN BUREN         | ENID                    | OK                      | 73701                   |    0.0000               |  0.0000                 | 1972-05-07              | NA                      | NA                      | 1992-06-16              |\n",
       "| 810 | 32034                   | 913 EDGEBROOK BLVD.     | HOUSTON                 | TX                      | 77034                   |    0.0000               |  0.0000                 | 1972-05-26              | NA                      | NA                      | 1994-03-16              |\n",
       "| 3889 | 46532                   | 707 NORTH MINNESOTA     | NEW ULM                 | MN                      | 56073                   |  -94.4662               | 44.3202                 | 1972-06-01              | 2011-08-21              | 2012-05-07              | NA                      |\n",
       "| 490 | 32018                   | 13360 EUREKA ROAD       | SOUTHGATE               | MI                      | 48195                   |    0.0000               |  0.0000                 | 1972-06-16              | NA                      | NA                      | 1992-10-18              |\n",
       "| 638 | 32028                   | 609 S MAIN ST           | LOMBARD                 | IL                      | 60148                   |    0.0000               |  0.0000                 | 1972-07-07              | NA                      | NA                      | 1990-10-14              |\n",
       "| 3291 | 44765                   | 32 ADAMS STREET         | IRON RIVER              | MI                      | 49935                   |  -88.6387               | 46.0926                 | 1972-07-28              | 2005-10-30              | 2005-11-10              | NA                      |\n",
       "| 4045 | 32025                   | 18941 SOLEDAD CANYON RD | CANYON COUNTRY          | CA                      | 91351-3361              | -118.4660               | 34.4160                 | 1972-08-02              | 2011-04-02              | 2011-05-12              | NA                      |\n",
       "| 6459 | 32041                   | 9066 LONGPOINT ROAD     | HOUSTON                 | TX                      | 77055                   |    0.0000               |  0.0000                 | 1972-08-08              | NA                      | NA                      | 1990-02-16              |\n",
       "| 3309 | 32031                   | 3801 W. 95TH STREET     | EVERGREEN PARK          | IL                      | 60642                   |    0.0000               |  0.0000                 | 1972-08-24              | NA                      | NA                      | 1993-12-21              |\n",
       "| 5646 | 50085                   | 7043 FOREST HILL AVE.   | RICHMOND                | VA                      | 23225                   |    0.0000               |  0.0000                 | 1972-08-25              | NA                      | NA                      | 1987-09-01              |\n",
       "| 1712 | 32039                   | 6407 STEARNS AVE.       | LONG BEACH              | CA                      | 90815                   | -118.1080               | 33.7954                 | 1972-08-31              | 2012-01-31              | 2012-05-23              | 2012-10-02              |\n",
       "| 2053 | 32035                   | 15322 SANTA GERTRUDES   | LA MIRADA               | CA                      | 90638                   |    0.0000               |  0.0000                 | 1972-09-01              | NA                      | NA                      | 1993-06-10              |\n",
       "| 14337 | 31741                   | 2210 LAKEWOOD BLVD      | LONG BEACH              | CA                      | 90815                   |    0.0000               |  0.0000                 | 1972-09-01              | NA                      | NA                      | 2001-02-23              |\n",
       "| 3229 | 32023                   | 1535 E 12 MILE RD       | MADISON HEIGHTS         | MI                      | 48071                   |    0.0000               |  0.0000                 | 1972-09-15              | NA                      | NA                      | 1995-11-01              |\n",
       "| 2585 | 32027                   | 2333 WASHTENAW AVE.     | YPSILANTI               | MI                      | 48197                   |    0.0000               |  0.0000                 | 1972-10-06              | NA                      | NA                      | 1997-01-22              |\n",
       "| 5577 | 32045                   | 300 S AIR DEPOT AVE.    | MIDWEST CITY            | OK                      | 73110                   |  -97.4061               | 35.4618                 | 1972-10-11              | 1997-09-16              | 1997-12-01              | NA                      |\n",
       "\n"
      ],
      "text/plain": [
       "      restid address1                city            state zip        lon      \n",
       "4910  32019  1529 CACHE ROAD         LAWTON          OK    73501         0.0000\n",
       "13537 32009  2900 FAIRVIEW RD        COSTA MESA      CA    92626      -117.9080\n",
       "5407  50081  15418 LASSEN STREET     MISSION HILLS   CA    91340         0.0000\n",
       "10829 32004  4130 BOULDER HWY.       LAS VEGAS       NV    89121         0.0000\n",
       "3832  44692  139 SOUTHWEST DRIVE     JONESBORO       AR    72401       -90.7060\n",
       "14885 32016  923 S VAN BUREN         ENID            OK    73701         0.0000\n",
       "810   32034  913 EDGEBROOK BLVD.     HOUSTON         TX    77034         0.0000\n",
       "3889  46532  707 NORTH MINNESOTA     NEW ULM         MN    56073       -94.4662\n",
       "490   32018  13360 EUREKA ROAD       SOUTHGATE       MI    48195         0.0000\n",
       "638   32028  609 S MAIN ST           LOMBARD         IL    60148         0.0000\n",
       "3291  44765  32 ADAMS STREET         IRON RIVER      MI    49935       -88.6387\n",
       "4045  32025  18941 SOLEDAD CANYON RD CANYON COUNTRY  CA    91351-3361 -118.4660\n",
       "6459  32041  9066 LONGPOINT ROAD     HOUSTON         TX    77055         0.0000\n",
       "3309  32031  3801 W. 95TH STREET     EVERGREEN PARK  IL    60642         0.0000\n",
       "5646  50085  7043 FOREST HILL AVE.   RICHMOND        VA    23225         0.0000\n",
       "1712  32039  6407 STEARNS AVE.       LONG BEACH      CA    90815      -118.1080\n",
       "2053  32035  15322 SANTA GERTRUDES   LA MIRADA       CA    90638         0.0000\n",
       "14337 31741  2210 LAKEWOOD BLVD      LONG BEACH      CA    90815         0.0000\n",
       "3229  32023  1535 E 12 MILE RD       MADISON HEIGHTS MI    48071         0.0000\n",
       "2585  32027  2333 WASHTENAW AVE.     YPSILANTI       MI    48197         0.0000\n",
       "5577  32045  300 S AIR DEPOT AVE.    MIDWEST CITY    OK    73110       -97.4061\n",
       "      lat     open       tempclose  reopen     close     \n",
       "4910   0.0000 1972-02-25 <NA>       <NA>       1992-09-08\n",
       "13537 33.6768 1972-02-25 <NA>       <NA>       2013-02-28\n",
       "5407   0.0000 1972-02-26 <NA>       <NA>       1991-12-25\n",
       "10829  0.0000 1972-05-03 <NA>       <NA>       1992-05-22\n",
       "3832  35.8202 1972-05-05 <NA>       <NA>       <NA>      \n",
       "14885  0.0000 1972-05-07 <NA>       <NA>       1992-06-16\n",
       "810    0.0000 1972-05-26 <NA>       <NA>       1994-03-16\n",
       "3889  44.3202 1972-06-01 2011-08-21 2012-05-07 <NA>      \n",
       "490    0.0000 1972-06-16 <NA>       <NA>       1992-10-18\n",
       "638    0.0000 1972-07-07 <NA>       <NA>       1990-10-14\n",
       "3291  46.0926 1972-07-28 2005-10-30 2005-11-10 <NA>      \n",
       "4045  34.4160 1972-08-02 2011-04-02 2011-05-12 <NA>      \n",
       "6459   0.0000 1972-08-08 <NA>       <NA>       1990-02-16\n",
       "3309   0.0000 1972-08-24 <NA>       <NA>       1993-12-21\n",
       "5646   0.0000 1972-08-25 <NA>       <NA>       1987-09-01\n",
       "1712  33.7954 1972-08-31 2012-01-31 2012-05-23 2012-10-02\n",
       "2053   0.0000 1972-09-01 <NA>       <NA>       1993-06-10\n",
       "14337  0.0000 1972-09-01 <NA>       <NA>       2001-02-23\n",
       "3229   0.0000 1972-09-15 <NA>       <NA>       1995-11-01\n",
       "2585   0.0000 1972-10-06 <NA>       <NA>       1997-01-22\n",
       "5577  35.4618 1972-10-11 1997-09-16 1997-12-01 <NA>      "
      ]
     },
     "metadata": {},
     "output_type": "display_data"
    }
   ],
   "source": [
    "restaurants[900:920, c(1:2, 5, 7:14)] #sanity check"
   ]
  },
  {
   "cell_type": "code",
   "execution_count": 9,
   "metadata": {},
   "outputs": [
    {
     "data": {
      "text/html": [
       "16980"
      ],
      "text/latex": [
       "16980"
      ],
      "text/markdown": [
       "16980"
      ],
      "text/plain": [
       "[1] 16980"
      ]
     },
     "metadata": {},
     "output_type": "display_data"
    },
    {
     "data": {
      "text/plain": [
       "\n",
       " closed    open planned \n",
       "   9679    6954     347 "
      ]
     },
     "metadata": {},
     "output_type": "display_data"
    }
   ],
   "source": [
    "# create index for restaurant status\n",
    "# closed, planned, open\n",
    "restaurants$status <- NULL\n",
    "length(restaurants$restid)\n",
    "restaurants$status[is.na(restaurants$close) & !is.na(restaurants$open)] <- \"open\"\n",
    "restaurants$status[!is.na(restaurants$close)] <- \"closed\"\n",
    "restaurants$status[is.na(restaurants$close) & is.na(restaurants$open)] <- \"planned\"\n",
    "table(restaurants$status)"
   ]
  },
  {
   "cell_type": "code",
   "execution_count": 86,
   "metadata": {
    "scrolled": true
   },
   "outputs": [],
   "source": [
    "#write.csv(x=restaurants, file=\"restaurants-clean.csv\", row.names=FALSE)"
   ]
  },
  {
   "cell_type": "code",
   "execution_count": 10,
   "metadata": {},
   "outputs": [
    {
     "data": {
      "text/html": [
       "<table>\n",
       "<thead><tr><th></th><th scope=col>restid</th><th scope=col>address1</th><th scope=col>address2</th><th scope=col>address3</th><th scope=col>city</th><th scope=col>county</th><th scope=col>state</th><th scope=col>zip</th><th scope=col>lon</th><th scope=col>lat</th><th scope=col>open</th><th scope=col>tempclose</th><th scope=col>reopen</th><th scope=col>close</th><th scope=col>status</th></tr></thead>\n",
       "<tbody>\n",
       "\t<tr><th scope=row>3647</th><td>33220                  </td><td>HAMMOND DRIVE          </td><td>                       </td><td>                       </td><td>SANDY SPRINGS          </td><td>                       </td><td>GA                     </td><td>NA                     </td><td>0                      </td><td>0                      </td><td>1900-01-01             </td><td>NA                     </td><td>NA                     </td><td>1983-04-27             </td><td>closed                 </td></tr>\n",
       "\t<tr><th scope=row>809</th><td>33782                  </td><td>5325 MEMORIAL DRIVE    </td><td>                       </td><td>                       </td><td>STONE MOUNTAIN         </td><td>                       </td><td>GA                     </td><td>NA                     </td><td>0                      </td><td>0                      </td><td>1900-01-01             </td><td>NA                     </td><td>NA                     </td><td>1986-02-11             </td><td>closed                 </td></tr>\n",
       "\t<tr><th scope=row>682</th><td>33730                                                 </td><td>ST. RT. 28 &amp; CINEMA DR.                           </td><td>                                                      </td><td>                                                      </td><td><span style=white-space:pre-wrap>MILFORD       </span></td><td><span style=white-space:pre-wrap>             </span> </td><td>OH                                                    </td><td><span style=white-space:pre-wrap>45150     </span>    </td><td>0                                                     </td><td>0                                                     </td><td>1900-01-01                                            </td><td>NA                                                    </td><td>NA                                                    </td><td>1986-04-11                                            </td><td>closed                                                </td></tr>\n",
       "\t<tr><th scope=row>1922</th><td>33832                  </td><td>2200 CLARK STREET      </td><td>                       </td><td>                       </td><td>LONG BEACH             </td><td>                       </td><td>CA                     </td><td>90815                  </td><td>0                      </td><td>0                      </td><td>1900-01-01             </td><td>NA                     </td><td>NA                     </td><td>1986-07-29             </td><td>closed                 </td></tr>\n",
       "\t<tr><th scope=row>654</th><td>34420                                                              </td><td><span style=white-space:pre-wrap>9TH &amp; ALDER            </span></td><td>                                                                   </td><td>                                                                   </td><td><span style=white-space:pre-wrap>PORTLAND      </span>             </td><td><span style=white-space:pre-wrap>             </span>              </td><td>OR                                                                 </td><td><span style=white-space:pre-wrap>NA        </span>                 </td><td>0                                                                  </td><td>0                                                                  </td><td>1900-01-01                                                         </td><td>NA                                                                 </td><td>NA                                                                 </td><td>1986-10-21                                                         </td><td>closed                                                             </td></tr>\n",
       "\t<tr><th scope=row>7143</th><td>34585                  </td><td>536 GOLDEN GATE        </td><td>                       </td><td>                       </td><td>SAN FRANCISCO          </td><td>SAN FRANCISCO          </td><td>CA                     </td><td>94102-3221             </td><td>0                      </td><td>0                      </td><td>1900-01-01             </td><td>NA                     </td><td>NA                     </td><td>1986-11-19             </td><td>closed                 </td></tr>\n",
       "</tbody>\n",
       "</table>\n"
      ],
      "text/latex": [
       "\\begin{tabular}{r|lllllllllllllll}\n",
       "  & restid & address1 & address2 & address3 & city & county & state & zip & lon & lat & open & tempclose & reopen & close & status\\\\\n",
       "\\hline\n",
       "\t3647 & 33220                   & HAMMOND DRIVE           &                         &                         & SANDY SPRINGS           &                         & GA                      & NA                      & 0                       & 0                       & 1900-01-01              & NA                      & NA                      & 1983-04-27              & closed                 \\\\\n",
       "\t809 & 33782                   & 5325 MEMORIAL DRIVE     &                         &                         & STONE MOUNTAIN          &                         & GA                      & NA                      & 0                       & 0                       & 1900-01-01              & NA                      & NA                      & 1986-02-11              & closed                 \\\\\n",
       "\t682 & 33730                     & ST. RT. 28 \\& CINEMA DR. &                           &                           & MILFORD                   &                           & OH                        & 45150                     & 0                         & 0                         & 1900-01-01                & NA                        & NA                        & 1986-04-11                & closed                   \\\\\n",
       "\t1922 & 33832                   & 2200 CLARK STREET       &                         &                         & LONG BEACH              &                         & CA                      & 90815                   & 0                       & 0                       & 1900-01-01              & NA                      & NA                      & 1986-07-29              & closed                 \\\\\n",
       "\t654 & 34420                     & 9TH \\& ALDER             &                           &                           & PORTLAND                  &                           & OR                        & NA                        & 0                         & 0                         & 1900-01-01                & NA                        & NA                        & 1986-10-21                & closed                   \\\\\n",
       "\t7143 & 34585                   & 536 GOLDEN GATE         &                         &                         & SAN FRANCISCO           & SAN FRANCISCO           & CA                      & 94102-3221              & 0                       & 0                       & 1900-01-01              & NA                      & NA                      & 1986-11-19              & closed                 \\\\\n",
       "\\end{tabular}\n"
      ],
      "text/markdown": [
       "\n",
       "| <!--/--> | restid | address1 | address2 | address3 | city | county | state | zip | lon | lat | open | tempclose | reopen | close | status |\n",
       "|---|---|---|---|---|---|---|---|---|---|---|---|---|---|---|---|\n",
       "| 3647 | 33220                   | HAMMOND DRIVE           |                         |                         | SANDY SPRINGS           |                         | GA                      | NA                      | 0                       | 0                       | 1900-01-01              | NA                      | NA                      | 1983-04-27              | closed                  |\n",
       "| 809 | 33782                   | 5325 MEMORIAL DRIVE     |                         |                         | STONE MOUNTAIN          |                         | GA                      | NA                      | 0                       | 0                       | 1900-01-01              | NA                      | NA                      | 1986-02-11              | closed                  |\n",
       "| 682 | 33730                   | ST. RT. 28 & CINEMA DR. |                         |                         | MILFORD                 |                         | OH                      | 45150                   | 0                       | 0                       | 1900-01-01              | NA                      | NA                      | 1986-04-11              | closed                  |\n",
       "| 1922 | 33832                   | 2200 CLARK STREET       |                         |                         | LONG BEACH              |                         | CA                      | 90815                   | 0                       | 0                       | 1900-01-01              | NA                      | NA                      | 1986-07-29              | closed                  |\n",
       "| 654 | 34420                   | 9TH & ALDER             |                         |                         | PORTLAND                |                         | OR                      | NA                      | 0                       | 0                       | 1900-01-01              | NA                      | NA                      | 1986-10-21              | closed                  |\n",
       "| 7143 | 34585                   | 536 GOLDEN GATE         |                         |                         | SAN FRANCISCO           | SAN FRANCISCO           | CA                      | 94102-3221              | 0                       | 0                       | 1900-01-01              | NA                      | NA                      | 1986-11-19              | closed                  |\n",
       "\n"
      ],
      "text/plain": [
       "     restid address1                address2 address3 city          \n",
       "3647 33220  HAMMOND DRIVE                             SANDY SPRINGS \n",
       "809  33782  5325 MEMORIAL DRIVE                       STONE MOUNTAIN\n",
       "682  33730  ST. RT. 28 & CINEMA DR.                   MILFORD       \n",
       "1922 33832  2200 CLARK STREET                         LONG BEACH    \n",
       "654  34420  9TH & ALDER                               PORTLAND      \n",
       "7143 34585  536 GOLDEN GATE                           SAN FRANCISCO \n",
       "     county        state zip        lon lat open       tempclose reopen\n",
       "3647               GA    NA         0   0   1900-01-01 <NA>      <NA>  \n",
       "809                GA    NA         0   0   1900-01-01 <NA>      <NA>  \n",
       "682                OH    45150      0   0   1900-01-01 <NA>      <NA>  \n",
       "1922               CA    90815      0   0   1900-01-01 <NA>      <NA>  \n",
       "654                OR    NA         0   0   1900-01-01 <NA>      <NA>  \n",
       "7143 SAN FRANCISCO CA    94102-3221 0   0   1900-01-01 <NA>      <NA>  \n",
       "     close      status\n",
       "3647 1983-04-27 closed\n",
       "809  1986-02-11 closed\n",
       "682  1986-04-11 closed\n",
       "1922 1986-07-29 closed\n",
       "654  1986-10-21 closed\n",
       "7143 1986-11-19 closed"
      ]
     },
     "metadata": {},
     "output_type": "display_data"
    }
   ],
   "source": [
    "head(restaurants)"
   ]
  },
  {
   "cell_type": "markdown",
   "metadata": {},
   "source": [
    "### clean up longitude and latitude data"
   ]
  },
  {
   "cell_type": "code",
   "execution_count": 15,
   "metadata": {},
   "outputs": [
    {
     "data": {
      "text/plain": [
       "    Min.  1st Qu.   Median     Mean  3rd Qu.     Max.     NA's \n",
       " -159.38   -94.98   -82.50   -59.28     0.00 40213.00        5 "
      ]
     },
     "metadata": {},
     "output_type": "display_data"
    }
   ],
   "source": [
    "summary(restaurants$lon)"
   ]
  },
  {
   "cell_type": "code",
   "execution_count": 16,
   "metadata": {},
   "outputs": [
    {
     "data": {
      "text/plain": [
       "    Min.  1st Qu.   Median     Mean  3rd Qu.     Max.     NA's \n",
       "    0.00     0.00     0.00    14.44     0.00 40213.00        5 "
      ]
     },
     "metadata": {},
     "output_type": "display_data"
    }
   ],
   "source": [
    "summary(restaurants$lon[restaurants$lon>=0])"
   ]
  },
  {
   "cell_type": "code",
   "execution_count": 17,
   "metadata": {},
   "outputs": [
    {
     "ename": "ERROR",
     "evalue": "Error in png(tf, width, height, \"in\", pointsize, bg, res, antialias = antialias): unable to start png() device\n",
     "output_type": "error",
     "traceback": [
      "Error in png(tf, width, height, \"in\", pointsize, bg, res, antialias = antialias): unable to start png() device\nTraceback:\n"
     ]
    },
    {
     "data": {
      "text/plain": [
       "Plot with title \"Histogram of restaurants$lon\""
      ]
     },
     "metadata": {},
     "output_type": "display_data"
    }
   ],
   "source": [
    "hist(restaurants$lon)"
   ]
  }
 ],
 "metadata": {
  "kernelspec": {
   "display_name": "R",
   "language": "R",
   "name": "ir"
  },
  "language_info": {
   "codemirror_mode": "r",
   "file_extension": ".r",
   "mimetype": "text/x-r-source",
   "name": "R",
   "pygments_lexer": "r",
   "version": "3.6.0"
  }
 },
 "nbformat": 4,
 "nbformat_minor": 2
}
