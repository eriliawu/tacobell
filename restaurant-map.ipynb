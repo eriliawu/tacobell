{
 "cells": [
  {
   "cell_type": "markdown",
   "metadata": {},
   "source": [
    "# Import and clean restaurant data"
   ]
  },
  {
   "cell_type": "code",
   "execution_count": 47,
   "metadata": {},
   "outputs": [
    {
     "data": {
      "text/html": [
       "'C:/Users/wue04/Box Sync/tacobell/raw-output'"
      ],
      "text/latex": [
       "'C:/Users/wue04/Box Sync/tacobell/raw-output'"
      ],
      "text/markdown": [
       "'C:/Users/wue04/Box Sync/tacobell/raw-output'"
      ],
      "text/plain": [
       "[1] \"C:/Users/wue04/Box Sync/tacobell/raw-output\""
      ]
     },
     "metadata": {},
     "output_type": "display_data"
    }
   ],
   "source": [
    "getwd()\n",
    "setwd(\"raw-output\")"
   ]
  },
  {
   "cell_type": "markdown",
   "metadata": {},
   "source": [
    "### suppress warnings messages"
   ]
  },
  {
   "cell_type": "code",
   "execution_count": 48,
   "metadata": {},
   "outputs": [],
   "source": [
    "current_warning <- getOption(\"warn\")\n",
    "options(warn = -1)"
   ]
  },
  {
   "cell_type": "markdown",
   "metadata": {},
   "source": [
    "### reset warning to normal"
   ]
  },
  {
   "cell_type": "code",
   "execution_count": null,
   "metadata": {},
   "outputs": [],
   "source": [
    "options(warn = current_warning)"
   ]
  },
  {
   "cell_type": "markdown",
   "metadata": {},
   "source": [
    "### read sample data"
   ]
  },
  {
   "cell_type": "code",
   "execution_count": 37,
   "metadata": {},
   "outputs": [],
   "source": [
    "sample <- read.csv(\"restaurants.csv\", sep = \";\", header = FALSE, nrow=10, quote = \"\")\n",
    "head(sample)\n",
    "sapply(sample, class)"
   ]
  },
  {
   "cell_type": "markdown",
   "metadata": {},
   "source": [
    "### read in data"
   ]
  },
  {
   "cell_type": "code",
   "execution_count": 49,
   "metadata": {
    "scrolled": false
   },
   "outputs": [
    {
     "data": {
      "text/html": [
       "<dl class=dl-horizontal>\n",
       "\t<dt>restid</dt>\n",
       "\t\t<dd>'numeric'</dd>\n",
       "\t<dt>address1</dt>\n",
       "\t\t<dd>'character'</dd>\n",
       "\t<dt>address2</dt>\n",
       "\t\t<dd>'character'</dd>\n",
       "\t<dt>address3</dt>\n",
       "\t\t<dd>'character'</dd>\n",
       "\t<dt>city</dt>\n",
       "\t\t<dd>'character'</dd>\n",
       "\t<dt>county</dt>\n",
       "\t\t<dd>'character'</dd>\n",
       "\t<dt>state</dt>\n",
       "\t\t<dd>'character'</dd>\n",
       "\t<dt>zip</dt>\n",
       "\t\t<dd>'character'</dd>\n",
       "\t<dt>lon</dt>\n",
       "\t\t<dd>'numeric'</dd>\n",
       "\t<dt>lat</dt>\n",
       "\t\t<dd>'numeric'</dd>\n",
       "\t<dt>open</dt>\n",
       "\t\t<dd>'Date'</dd>\n",
       "\t<dt>tempclose</dt>\n",
       "\t\t<dd>'Date'</dd>\n",
       "\t<dt>reopen</dt>\n",
       "\t\t<dd>'Date'</dd>\n",
       "\t<dt>close</dt>\n",
       "\t\t<dd>'Date'</dd>\n",
       "</dl>\n"
      ],
      "text/latex": [
       "\\begin{description*}\n",
       "\\item[restid] 'numeric'\n",
       "\\item[address1] 'character'\n",
       "\\item[address2] 'character'\n",
       "\\item[address3] 'character'\n",
       "\\item[city] 'character'\n",
       "\\item[county] 'character'\n",
       "\\item[state] 'character'\n",
       "\\item[zip] 'character'\n",
       "\\item[lon] 'numeric'\n",
       "\\item[lat] 'numeric'\n",
       "\\item[open] 'Date'\n",
       "\\item[tempclose] 'Date'\n",
       "\\item[reopen] 'Date'\n",
       "\\item[close] 'Date'\n",
       "\\end{description*}\n"
      ],
      "text/markdown": [
       "restid\n",
       ":   'numeric'address1\n",
       ":   'character'address2\n",
       ":   'character'address3\n",
       ":   'character'city\n",
       ":   'character'county\n",
       ":   'character'state\n",
       ":   'character'zip\n",
       ":   'character'lon\n",
       ":   'numeric'lat\n",
       ":   'numeric'open\n",
       ":   'Date'tempclose\n",
       ":   'Date'reopen\n",
       ":   'Date'close\n",
       ":   'Date'\n",
       "\n"
      ],
      "text/plain": [
       "     restid    address1    address2    address3        city      county \n",
       "  \"numeric\" \"character\" \"character\" \"character\" \"character\" \"character\" \n",
       "      state         zip         lon         lat        open   tempclose \n",
       "\"character\" \"character\"   \"numeric\"   \"numeric\"      \"Date\"      \"Date\" \n",
       "     reopen       close \n",
       "     \"Date\"      \"Date\" "
      ]
     },
     "metadata": {},
     "output_type": "display_data"
    }
   ],
   "source": [
    "# clean up restaurants\n",
    "restaurants <- read.csv(\"restaurants.csv\", sep = \";\", header = FALSE, quote = \"\", stringsAsFactors=FALSE,\n",
    "                        col.names = c(\"restid\", \"address1\", \"address2\", \"address3\",\n",
    "                                      \"city\", \"county\", \"state\", \"zip\", \"lon\", \"lat\",\n",
    "                                      \"open\", \"tempclose\", \"reopen\", \"close\"))\n",
    "head(restaurants)\n",
    "length(unique(restaurants$restid))"
   ]
  },
  {
   "cell_type": "markdown",
   "metadata": {},
   "source": [
    "### house cleaning"
   ]
  },
  {
   "cell_type": "code",
   "execution_count": null,
   "metadata": {},
   "outputs": [],
   "source": [
    "sapply(restaurants, class) # check variables types\n",
    "restaurants[, c(1, 9:10)] <- lapply(restaurants[, c(1, 9:10)], as.numeric) # convert geo coordinates to numeric\n",
    "restaurants[(100:120), ] #sanity check\n",
    "\n",
    "convert_to_date <- function(x) {\n",
    "    # replace 0000-00-00 dates as NA\n",
    "    x[x==\"0000-00-00\"] <- NA\n",
    "    # convert characters to dates\n",
    "    x <- as.Date(x)\n",
    "    return(x)\n",
    "    print(class(x))\n",
    "}\n",
    "restaurants[, 11:14] <- lapply(restaurants[, 11:14], convert_to_date)\n",
    "rm(convert_to_date)\n",
    "sapply(restaurants, class) #check classes again\n",
    "restaurants$address1[restaurants$address1==\"N/A\"] <- NA\n",
    "restaurants$city[restaurants$city==\"N/A\"] <- NA\n",
    "restaurants$zip[restaurants$zip==\"\"] <- NA\n",
    "restaurants <- restaurants[order(restaurants$open, restaurants$close), ]"
   ]
  },
  {
   "cell_type": "code",
   "execution_count": 66,
   "metadata": {
    "scrolled": true
   },
   "outputs": [],
   "source": [
    "restaurants[900:920, c(1:2, 5, 7:14)] #sanity check"
   ]
  },
  {
   "cell_type": "code",
   "execution_count": 69,
   "metadata": {},
   "outputs": [
    {
     "data": {
      "text/html": [
       "16980"
      ],
      "text/latex": [
       "16980"
      ],
      "text/markdown": [
       "16980"
      ],
      "text/plain": [
       "[1] 16980"
      ]
     },
     "metadata": {},
     "output_type": "display_data"
    },
    {
     "data": {
      "text/plain": [
       "\n",
       " closed    open planned \n",
       "   9679    6954     347 "
      ]
     },
     "metadata": {},
     "output_type": "display_data"
    }
   ],
   "source": [
    "# create index for restaurant status\n",
    "# closed, planned, open\n",
    "restaurants$status <- NULL\n",
    "length(restaurants$restid)\n",
    "restaurants$status[is.na(restaurants$close) & !is.na(restaurants$open)] <- \"open\"\n",
    "restaurants$status[!is.na(restaurants$close)] <- \"closed\"\n",
    "restaurants$status[is.na(restaurants$close) & is.na(restaurants$open)] <- \"planned\"\n",
    "table(restaurants$status)"
   ]
  },
  {
   "cell_type": "code",
   "execution_count": 86,
   "metadata": {
    "scrolled": true
   },
   "outputs": [],
   "source": [
    "write.csv(x=restaurants, file=\"restaurants-clean.csv\", row.names=FALSE)"
   ]
  },
  {
   "cell_type": "code",
   "execution_count": 84,
   "metadata": {},
   "outputs": [
    {
     "name": "stderr",
     "output_type": "stream",
     "text": [
      "ERROR while rich displaying an object: Error in file(con, \"r\"): cannot open the connection\n",
      "\n",
      "Traceback:\n",
      "1. FUN(X[[i]], ...)\n",
      "2. tryCatch(withCallingHandlers({\n",
      " .     if (!mime %in% names(repr::mime2repr)) \n",
      " .         stop(\"No repr_* for mimetype \", mime, \" in repr::mime2repr\")\n",
      " .     rpr <- repr::mime2repr[[mime]](obj)\n",
      " .     if (is.null(rpr)) \n",
      " .         return(NULL)\n",
      " .     prepare_content(is.raw(rpr), rpr)\n",
      " . }, error = error_handler), error = outer_handler)\n",
      "3. tryCatchList(expr, classes, parentenv, handlers)\n",
      "4. tryCatchOne(expr, names, parentenv, handlers[[1L]])\n",
      "5. doTryCatch(return(expr), name, parentenv, handler)\n",
      "6. withCallingHandlers({\n",
      " .     if (!mime %in% names(repr::mime2repr)) \n",
      " .         stop(\"No repr_* for mimetype \", mime, \" in repr::mime2repr\")\n",
      " .     rpr <- repr::mime2repr[[mime]](obj)\n",
      " .     if (is.null(rpr)) \n",
      " .         return(NULL)\n",
      " .     prepare_content(is.raw(rpr), rpr)\n",
      " . }, error = error_handler)\n",
      "7. repr::mime2repr[[mime]](obj)\n",
      "8. repr_latex.help_files_with_topic(obj)\n",
      "9. repr_help_files_with_topic_generic(obj, Rd2latex)\n",
      "10. capture.output(Rd2_(rd, package = pkgname, outputEncoding = \"UTF-8\"))\n",
      "11. evalVis(expr)\n",
      "12. withVisible(eval(expr, pf))\n",
      "13. eval(expr, pf)\n",
      "14. eval(expr, pf)\n",
      "15. Rd2_(rd, package = pkgname, outputEncoding = \"UTF-8\")\n",
      "16. .Rd_get_latex(.Rd_get_section(Rd, \"title\"))\n",
      "17. readLines(tf, warn = FALSE, encoding = \"UTF-8\")\n",
      "18. file(con, \"r\")\n"
     ]
    }
   ],
   "source": [
    "?write.csv"
   ]
  },
  {
   "cell_type": "code",
   "execution_count": 81,
   "metadata": {},
   "outputs": [],
   "source": [
    "rm(restaurants.open)"
   ]
  }
 ],
 "metadata": {
  "kernelspec": {
   "display_name": "R",
   "language": "R",
   "name": "ir"
  },
  "language_info": {
   "codemirror_mode": "r",
   "file_extension": ".r",
   "mimetype": "text/x-r-source",
   "name": "R",
   "pygments_lexer": "r",
   "version": "3.6.0"
  }
 },
 "nbformat": 4,
 "nbformat_minor": 2
}
