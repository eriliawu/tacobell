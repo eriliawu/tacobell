{
 "cells": [
  {
   "cell_type": "markdown",
   "metadata": {},
   "source": [
    "# Import and clean restaurant data"
   ]
  },
  {
   "cell_type": "code",
   "execution_count": 4,
   "metadata": {},
   "outputs": [
    {
     "data": {
      "text/html": [
       "'C:/Users/wue04/Box Sync/tacobell'"
      ],
      "text/latex": [
       "'C:/Users/wue04/Box Sync/tacobell'"
      ],
      "text/markdown": [
       "'C:/Users/wue04/Box Sync/tacobell'"
      ],
      "text/plain": [
       "[1] \"C:/Users/wue04/Box Sync/tacobell\""
      ]
     },
     "metadata": {},
     "output_type": "display_data"
    }
   ],
   "source": [
    "getwd()\n",
    "setwd(\"raw-output\")"
   ]
  },
  {
   "cell_type": "markdown",
   "metadata": {},
   "source": [
    "### suppress warnings messages"
   ]
  },
  {
   "cell_type": "code",
   "execution_count": 5,
   "metadata": {},
   "outputs": [],
   "source": [
    "current_warning <- getOption(\"warn\")\n",
    "options(warn = -1)"
   ]
  },
  {
   "cell_type": "markdown",
   "metadata": {},
   "source": [
    "### reset warning to normal"
   ]
  },
  {
   "cell_type": "code",
   "execution_count": null,
   "metadata": {},
   "outputs": [],
   "source": [
    "options(warn = current_warning)"
   ]
  },
  {
   "cell_type": "markdown",
   "metadata": {},
   "source": [
    "### read sample data"
   ]
  },
  {
   "cell_type": "code",
   "execution_count": 37,
   "metadata": {},
   "outputs": [],
   "source": [
    "sample <- read.csv(\"restaurants.csv\", sep = \";\", header = FALSE, nrow=10, quote = \"\")\n",
    "head(sample)\n",
    "sapply(sample, class)"
   ]
  },
  {
   "cell_type": "markdown",
   "metadata": {},
   "source": [
    "### read in data"
   ]
  },
  {
   "cell_type": "code",
   "execution_count": 6,
   "metadata": {
    "scrolled": false
   },
   "outputs": [
    {
     "data": {
      "text/html": [
       "<table>\n",
       "<thead><tr><th scope=col>restid</th><th scope=col>address1</th><th scope=col>address2</th><th scope=col>address3</th><th scope=col>city</th><th scope=col>county</th><th scope=col>state</th><th scope=col>zip</th><th scope=col>lon</th><th scope=col>lat</th><th scope=col>open</th><th scope=col>tempclose</th><th scope=col>reopen</th><th scope=col>close</th></tr></thead>\n",
       "<tbody>\n",
       "\t<tr><td>36955                     </td><td>15311 ELLA BLVD           </td><td>STOP N GO/NAT'L CONV STORE</td><td>                          </td><td>HOUSTON                   </td><td>                          </td><td>TX                        </td><td>77090                     </td><td>0.0000                    </td><td>0                         </td><td>1993-05-20                </td><td>0000-00-00                </td><td>0000-00-00                </td><td>1999-12-01                </td></tr>\n",
       "\t<tr><td>38887                     </td><td>8808 BEACH BLVD           </td><td>WAL-MART                  </td><td>                          </td><td>JACKSONVILLE              </td><td>                          </td><td>FL                        </td><td>32216                     </td><td>0.0000                    </td><td>0                         </td><td>0000-00-00                </td><td>0000-00-00                </td><td>0000-00-00                </td><td>0000-00-00                </td></tr>\n",
       "\t<tr><td>49973                     </td><td>11800 ATLANTIC AVE        </td><td>                          </td><td>                          </td><td>LYNWOOD                   </td><td>                          </td><td>CA                        </td><td>90262                     </td><td>0.0000                    </td><td>0                         </td><td>1966-09-15                </td><td>0000-00-00                </td><td>0000-00-00                </td><td>1987-09-15                </td></tr>\n",
       "\t<tr><td>35069                     </td><td>601 12TH ST NW            </td><td>                          </td><td>                          </td><td>WASHINGTON                </td><td>DIST OF COLUMBIA          </td><td>DC                        </td><td>20005                     </td><td>0.0000                    </td><td>0                         </td><td>1991-03-06                </td><td>0000-00-00                </td><td>0000-00-00                </td><td>1997-08-06                </td></tr>\n",
       "\t<tr><td>41877                     </td><td>5729 WEST FRIENDLY AVENUE </td><td>WILCO-GUILFORD COLLEGE    </td><td>                          </td><td>GUILFORD COLLEGE          </td><td>                          </td><td>NC                        </td><td>27410                     </td><td>0.0000                    </td><td>0                         </td><td>1995-06-19                </td><td>0000-00-00                </td><td>0000-00-00                </td><td>1998-03-26                </td></tr>\n",
       "\t<tr><td>31941                     </td><td>28050 FORD ROAD           </td><td>**OFFSET TO BE #017105**  </td><td>                          </td><td>GARDEN CITY               </td><td>WAYNE                     </td><td>MI                        </td><td>48135                     </td><td>0.0000                    </td><td>0                         </td><td>1969-07-31                </td><td>0000-00-00                </td><td>0000-00-00                </td><td>1995-08-09                </td></tr>\n",
       "</tbody>\n",
       "</table>\n"
      ],
      "text/latex": [
       "\\begin{tabular}{r|llllllllllllll}\n",
       " restid & address1 & address2 & address3 & city & county & state & zip & lon & lat & open & tempclose & reopen & close\\\\\n",
       "\\hline\n",
       "\t 36955                      & 15311 ELLA BLVD            & STOP N GO/NAT'L CONV STORE &                            & HOUSTON                    &                            & TX                         & 77090                      & 0.0000                     & 0                          & 1993-05-20                 & 0000-00-00                 & 0000-00-00                 & 1999-12-01                \\\\\n",
       "\t 38887                      & 8808 BEACH BLVD            & WAL-MART                   &                            & JACKSONVILLE               &                            & FL                         & 32216                      & 0.0000                     & 0                          & 0000-00-00                 & 0000-00-00                 & 0000-00-00                 & 0000-00-00                \\\\\n",
       "\t 49973                      & 11800 ATLANTIC AVE         &                            &                            & LYNWOOD                    &                            & CA                         & 90262                      & 0.0000                     & 0                          & 1966-09-15                 & 0000-00-00                 & 0000-00-00                 & 1987-09-15                \\\\\n",
       "\t 35069                      & 601 12TH ST NW             &                            &                            & WASHINGTON                 & DIST OF COLUMBIA           & DC                         & 20005                      & 0.0000                     & 0                          & 1991-03-06                 & 0000-00-00                 & 0000-00-00                 & 1997-08-06                \\\\\n",
       "\t 41877                      & 5729 WEST FRIENDLY AVENUE  & WILCO-GUILFORD COLLEGE     &                            & GUILFORD COLLEGE           &                            & NC                         & 27410                      & 0.0000                     & 0                          & 1995-06-19                 & 0000-00-00                 & 0000-00-00                 & 1998-03-26                \\\\\n",
       "\t 31941                        & 28050 FORD ROAD              & **OFFSET TO BE \\#017105**   &                              & GARDEN CITY                  & WAYNE                        & MI                           & 48135                        & 0.0000                       & 0                            & 1969-07-31                   & 0000-00-00                   & 0000-00-00                   & 1995-08-09                  \\\\\n",
       "\\end{tabular}\n"
      ],
      "text/markdown": [
       "\n",
       "| restid | address1 | address2 | address3 | city | county | state | zip | lon | lat | open | tempclose | reopen | close |\n",
       "|---|---|---|---|---|---|---|---|---|---|---|---|---|---|\n",
       "| 36955                      | 15311 ELLA BLVD            | STOP N GO/NAT'L CONV STORE |                            | HOUSTON                    |                            | TX                         | 77090                      | 0.0000                     | 0                          | 1993-05-20                 | 0000-00-00                 | 0000-00-00                 | 1999-12-01                 |\n",
       "| 38887                      | 8808 BEACH BLVD            | WAL-MART                   |                            | JACKSONVILLE               |                            | FL                         | 32216                      | 0.0000                     | 0                          | 0000-00-00                 | 0000-00-00                 | 0000-00-00                 | 0000-00-00                 |\n",
       "| 49973                      | 11800 ATLANTIC AVE         |                            |                            | LYNWOOD                    |                            | CA                         | 90262                      | 0.0000                     | 0                          | 1966-09-15                 | 0000-00-00                 | 0000-00-00                 | 1987-09-15                 |\n",
       "| 35069                      | 601 12TH ST NW             |                            |                            | WASHINGTON                 | DIST OF COLUMBIA           | DC                         | 20005                      | 0.0000                     | 0                          | 1991-03-06                 | 0000-00-00                 | 0000-00-00                 | 1997-08-06                 |\n",
       "| 41877                      | 5729 WEST FRIENDLY AVENUE  | WILCO-GUILFORD COLLEGE     |                            | GUILFORD COLLEGE           |                            | NC                         | 27410                      | 0.0000                     | 0                          | 1995-06-19                 | 0000-00-00                 | 0000-00-00                 | 1998-03-26                 |\n",
       "| 31941                      | 28050 FORD ROAD            | **OFFSET TO BE #017105**   |                            | GARDEN CITY                | WAYNE                      | MI                         | 48135                      | 0.0000                     | 0                          | 1969-07-31                 | 0000-00-00                 | 0000-00-00                 | 1995-08-09                 |\n",
       "\n"
      ],
      "text/plain": [
       "  restid address1                  address2                   address3\n",
       "1 36955  15311 ELLA BLVD           STOP N GO/NAT'L CONV STORE         \n",
       "2 38887  8808 BEACH BLVD           WAL-MART                           \n",
       "3 49973  11800 ATLANTIC AVE                                           \n",
       "4 35069  601 12TH ST NW                                               \n",
       "5 41877  5729 WEST FRIENDLY AVENUE WILCO-GUILFORD COLLEGE             \n",
       "6 31941  28050 FORD ROAD           **OFFSET TO BE #017105**           \n",
       "  city             county           state zip   lon    lat open      \n",
       "1 HOUSTON                           TX    77090 0.0000 0   1993-05-20\n",
       "2 JACKSONVILLE                      FL    32216 0.0000 0   0000-00-00\n",
       "3 LYNWOOD                           CA    90262 0.0000 0   1966-09-15\n",
       "4 WASHINGTON       DIST OF COLUMBIA DC    20005 0.0000 0   1991-03-06\n",
       "5 GUILFORD COLLEGE                  NC    27410 0.0000 0   1995-06-19\n",
       "6 GARDEN CITY      WAYNE            MI    48135 0.0000 0   1969-07-31\n",
       "  tempclose  reopen     close     \n",
       "1 0000-00-00 0000-00-00 1999-12-01\n",
       "2 0000-00-00 0000-00-00 0000-00-00\n",
       "3 0000-00-00 0000-00-00 1987-09-15\n",
       "4 0000-00-00 0000-00-00 1997-08-06\n",
       "5 0000-00-00 0000-00-00 1998-03-26\n",
       "6 0000-00-00 0000-00-00 1995-08-09"
      ]
     },
     "metadata": {},
     "output_type": "display_data"
    },
    {
     "data": {
      "text/html": [
       "16978"
      ],
      "text/latex": [
       "16978"
      ],
      "text/markdown": [
       "16978"
      ],
      "text/plain": [
       "[1] 16978"
      ]
     },
     "metadata": {},
     "output_type": "display_data"
    }
   ],
   "source": [
    "# clean up restaurants\n",
    "restaurants <- read.csv(\"restaurants.csv\", sep = \";\", header = FALSE, quote = \"\", stringsAsFactors=FALSE,\n",
    "                        col.names = c(\"restid\", \"address1\", \"address2\", \"address3\",\n",
    "                                      \"city\", \"county\", \"state\", \"zip\", \"lon\", \"lat\",\n",
    "                                      \"open\", \"tempclose\", \"reopen\", \"close\"))\n",
    "head(restaurants)\n",
    "length(unique(restaurants$restid))"
   ]
  },
  {
   "cell_type": "markdown",
   "metadata": {},
   "source": [
    "### house cleaning"
   ]
  },
  {
   "cell_type": "code",
   "execution_count": null,
   "metadata": {},
   "outputs": [],
   "source": [
    "sapply(restaurants, class) # check variables types\n",
    "restaurants[, c(1, 9:10)] <- lapply(restaurants[, c(1, 9:10)], as.numeric) # convert geo coordinates to numeric\n",
    "restaurants[(100:120), ] #sanity check\n",
    "\n",
    "convert_to_date <- function(x) {\n",
    "    # replace 0000-00-00 dates as NA\n",
    "    x[x==\"0000-00-00\"] <- NA\n",
    "    # convert characters to dates\n",
    "    x <- as.Date(x)\n",
    "    return(x)\n",
    "    print(class(x))\n",
    "}\n",
    "restaurants[, 11:14] <- lapply(restaurants[, 11:14], convert_to_date)\n",
    "rm(convert_to_date)\n",
    "sapply(restaurants, class) #check classes again\n",
    "restaurants$address1[restaurants$address1==\"N/A\"] <- NA\n",
    "restaurants$city[restaurants$city==\"N/A\"] <- NA\n",
    "restaurants$zip[restaurants$zip==\"\"] <- NA\n",
    "restaurants <- restaurants[order(restaurants$open, restaurants$close), ]"
   ]
  },
  {
   "cell_type": "code",
   "execution_count": 65,
   "metadata": {
    "scrolled": true
   },
   "outputs": [],
   "source": [
    "restaurants[900:920, c(1:2, 5, 7:14)] #sanity check"
   ]
  },
  {
   "cell_type": "code",
   "execution_count": 77,
   "metadata": {},
   "outputs": [
    {
     "data": {
      "text/html": [
       "16980"
      ],
      "text/latex": [
       "16980"
      ],
      "text/markdown": [
       "16980"
      ],
      "text/plain": [
       "[1] 16980"
      ]
     },
     "metadata": {},
     "output_type": "display_data"
    },
    {
     "data": {
      "text/plain": [
       "\n",
       " closed    open planned \n",
       "   9679    6954     347 "
      ]
     },
     "metadata": {},
     "output_type": "display_data"
    }
   ],
   "source": [
    "# create index for restaurant status\n",
    "# closed, planned, open\n",
    "restaurants$status <- NULL\n",
    "length(restaurants$restid)\n",
    "restaurants$status[is.na(restaurants$close) & !is.na(restaurants$open)] <- \"open\"\n",
    "restaurants$status[!is.na(restaurants$close)] <- \"closed\"\n",
    "restaurants$status[is.na(restaurants$close) & is.na(restaurants$open)] <- \"planned\"\n",
    "table(restaurants$status)"
   ]
  },
  {
   "cell_type": "code",
   "execution_count": 35,
   "metadata": {},
   "outputs": [],
   "source": [
    "# clean up address data\n",
    "colnames(restaurants)[c(2:4, 8)] <- c(\"street1\", \"street2\", \"street3\", \"longzip\")\n",
    "restaurants$zip[restaurants$zip==\"NA\" ] <- NA\n",
    "class(restaurants$zip)\n",
    "restaurants$zip <- substr(restaurants$longzip, 1, 5)\n",
    "restaurants$zip <- as.numeric(restaurants$zip)\n",
    "restaurants$address <- paste(restaurants$street1, restaurants$city, paste(restaurants$state, restaurants$zip), sep=\", \")\n",
    "restaurants$address <- sub(pattern=\" NA$\", replacement=\"\", restaurants$address)"
   ]
  },
  {
   "cell_type": "code",
   "execution_count": 55,
   "metadata": {},
   "outputs": [],
   "source": [
    "restaurants <- restaurants[, c(\"restid\", \"address\", \"street1\", \"street2\", \"street3\", \"city\", \"county\",\n",
    "                              \"state\", \"zip\", \"lon\", \"lat\", \"open\", \"tempclose\", \"reopen\", \"close\", \"longzip\")]"
   ]
  },
  {
   "cell_type": "code",
   "execution_count": 90,
   "metadata": {},
   "outputs": [
    {
     "data": {
      "text/html": [
       "<table>\n",
       "<thead><tr><th></th><th scope=col>restid</th><th scope=col>address</th><th scope=col>street1</th><th scope=col>street2</th><th scope=col>street3</th><th scope=col>city</th><th scope=col>county</th><th scope=col>state</th><th scope=col>zip</th><th scope=col>lon</th><th scope=col>lat</th><th scope=col>open</th><th scope=col>tempclose</th><th scope=col>reopen</th><th scope=col>close</th><th scope=col>longzip</th><th scope=col>status</th><th scope=col>tempclose_time</th></tr></thead>\n",
       "<tbody>\n",
       "\t<tr><th scope=row>3647</th><td>33220                                     </td><td>HAMMOND DRIVE, SANDY SPRINGS, GA          </td><td>HAMMOND DRIVE                             </td><td>                                          </td><td>                                          </td><td>SANDY SPRINGS                             </td><td>                                          </td><td>GA                                        </td><td>   NA                                     </td><td>0                                         </td><td>0                                         </td><td>1900-01-01                                </td><td>NA                                        </td><td>NA                                        </td><td>1983-04-27                                </td><td>NA                                        </td><td>closed                                    </td><td>NA days                                   </td></tr>\n",
       "\t<tr><th scope=row>809</th><td>33782                                     </td><td>5325 MEMORIAL DRIVE, STONE MOUNTAIN, GA   </td><td>5325 MEMORIAL DRIVE                       </td><td>                                          </td><td>                                          </td><td>STONE MOUNTAIN                            </td><td>                                          </td><td>GA                                        </td><td>   NA                                     </td><td>0                                         </td><td>0                                         </td><td>1900-01-01                                </td><td>NA                                        </td><td>NA                                        </td><td>1986-02-11                                </td><td>NA                                        </td><td>closed                                    </td><td>NA days                                   </td></tr>\n",
       "\t<tr><th scope=row>682</th><td>33730                                                 </td><td>ST. RT. 28 &amp; CINEMA DR., MILFORD, OH 45150        </td><td>ST. RT. 28 &amp; CINEMA DR.                           </td><td>                                                      </td><td>                                                      </td><td><span style=white-space:pre-wrap>MILFORD       </span></td><td><span style=white-space:pre-wrap>             </span> </td><td>OH                                                    </td><td>45150                                                 </td><td>0                                                     </td><td>0                                                     </td><td>1900-01-01                                            </td><td>NA                                                    </td><td>NA                                                    </td><td>1986-04-11                                            </td><td><span style=white-space:pre-wrap>45150     </span>    </td><td>closed                                                </td><td>NA days                                               </td></tr>\n",
       "\t<tr><th scope=row>1922</th><td>33832                                     </td><td>2200 CLARK STREET, LONG BEACH, CA 90815   </td><td>2200 CLARK STREET                         </td><td>                                          </td><td>                                          </td><td>LONG BEACH                                </td><td>                                          </td><td>CA                                        </td><td>90815                                     </td><td>0                                         </td><td>0                                         </td><td>1900-01-01                                </td><td>NA                                        </td><td>NA                                        </td><td>1986-07-29                                </td><td>90815                                     </td><td>closed                                    </td><td>NA days                                   </td></tr>\n",
       "\t<tr><th scope=row>654</th><td>34420                                                                                 </td><td><span style=white-space:pre-wrap>9TH &amp; ALDER, PORTLAND, OR                 </span></td><td><span style=white-space:pre-wrap>9TH &amp; ALDER            </span>                   </td><td>                                                                                      </td><td>                                                                                      </td><td><span style=white-space:pre-wrap>PORTLAND      </span>                                </td><td><span style=white-space:pre-wrap>             </span>                                 </td><td>OR                                                                                    </td><td><span style=white-space:pre-wrap>   NA</span>                                         </td><td>0                                                                                     </td><td>0                                                                                     </td><td>1900-01-01                                                                            </td><td>NA                                                                                    </td><td>NA                                                                                    </td><td>1986-10-21                                                                            </td><td><span style=white-space:pre-wrap>NA        </span>                                    </td><td>closed                                                                                </td><td>NA days                                                                               </td></tr>\n",
       "\t<tr><th scope=row>7143</th><td>34585                                     </td><td>536 GOLDEN GATE, SAN FRANCISCO, CA 94102  </td><td>536 GOLDEN GATE                           </td><td>                                          </td><td>                                          </td><td>SAN FRANCISCO                             </td><td>SAN FRANCISCO                             </td><td>CA                                        </td><td>94102                                     </td><td>0                                         </td><td>0                                         </td><td>1900-01-01                                </td><td>NA                                        </td><td>NA                                        </td><td>1986-11-19                                </td><td>94102-3221                                </td><td>closed                                    </td><td>NA days                                   </td></tr>\n",
       "</tbody>\n",
       "</table>\n"
      ],
      "text/latex": [
       "\\begin{tabular}{r|llllllllllllllllll}\n",
       "  & restid & address & street1 & street2 & street3 & city & county & state & zip & lon & lat & open & tempclose & reopen & close & longzip & status & tempclose\\_time\\\\\n",
       "\\hline\n",
       "\t3647 & 33220                                      & HAMMOND DRIVE, SANDY SPRINGS, GA           & HAMMOND DRIVE                              &                                            &                                            & SANDY SPRINGS                              &                                            & GA                                         &    NA                                      & 0                                          & 0                                          & 1900-01-01                                 & NA                                         & NA                                         & 1983-04-27                                 & NA                                         & closed                                     & NA days                                   \\\\\n",
       "\t809 & 33782                                      & 5325 MEMORIAL DRIVE, STONE MOUNTAIN, GA    & 5325 MEMORIAL DRIVE                        &                                            &                                            & STONE MOUNTAIN                             &                                            & GA                                         &    NA                                      & 0                                          & 0                                          & 1900-01-01                                 & NA                                         & NA                                         & 1986-02-11                                 & NA                                         & closed                                     & NA days                                   \\\\\n",
       "\t682 & 33730                                        & ST. RT. 28 \\& CINEMA DR., MILFORD, OH 45150 & ST. RT. 28 \\& CINEMA DR.                    &                                              &                                              & MILFORD                                      &                                              & OH                                           & 45150                                        & 0                                            & 0                                            & 1900-01-01                                   & NA                                           & NA                                           & 1986-04-11                                   & 45150                                        & closed                                       & NA days                                     \\\\\n",
       "\t1922 & 33832                                      & 2200 CLARK STREET, LONG BEACH, CA 90815    & 2200 CLARK STREET                          &                                            &                                            & LONG BEACH                                 &                                            & CA                                         & 90815                                      & 0                                          & 0                                          & 1900-01-01                                 & NA                                         & NA                                         & 1986-07-29                                 & 90815                                      & closed                                     & NA days                                   \\\\\n",
       "\t654 & 34420                                        & 9TH \\& ALDER, PORTLAND, OR                  & 9TH \\& ALDER                                &                                              &                                              & PORTLAND                                     &                                              & OR                                           &    NA                                        & 0                                            & 0                                            & 1900-01-01                                   & NA                                           & NA                                           & 1986-10-21                                   & NA                                           & closed                                       & NA days                                     \\\\\n",
       "\t7143 & 34585                                      & 536 GOLDEN GATE, SAN FRANCISCO, CA 94102   & 536 GOLDEN GATE                            &                                            &                                            & SAN FRANCISCO                              & SAN FRANCISCO                              & CA                                         & 94102                                      & 0                                          & 0                                          & 1900-01-01                                 & NA                                         & NA                                         & 1986-11-19                                 & 94102-3221                                 & closed                                     & NA days                                   \\\\\n",
       "\\end{tabular}\n"
      ],
      "text/markdown": [
       "\n",
       "| <!--/--> | restid | address | street1 | street2 | street3 | city | county | state | zip | lon | lat | open | tempclose | reopen | close | longzip | status | tempclose_time |\n",
       "|---|---|---|---|---|---|---|---|---|---|---|---|---|---|---|---|---|---|---|\n",
       "| 3647 | 33220                                      | HAMMOND DRIVE, SANDY SPRINGS, GA           | HAMMOND DRIVE                              |                                            |                                            | SANDY SPRINGS                              |                                            | GA                                         |    NA                                      | 0                                          | 0                                          | 1900-01-01                                 | NA                                         | NA                                         | 1983-04-27                                 | NA                                         | closed                                     | NA days                                    |\n",
       "| 809 | 33782                                      | 5325 MEMORIAL DRIVE, STONE MOUNTAIN, GA    | 5325 MEMORIAL DRIVE                        |                                            |                                            | STONE MOUNTAIN                             |                                            | GA                                         |    NA                                      | 0                                          | 0                                          | 1900-01-01                                 | NA                                         | NA                                         | 1986-02-11                                 | NA                                         | closed                                     | NA days                                    |\n",
       "| 682 | 33730                                      | ST. RT. 28 & CINEMA DR., MILFORD, OH 45150 | ST. RT. 28 & CINEMA DR.                    |                                            |                                            | MILFORD                                    |                                            | OH                                         | 45150                                      | 0                                          | 0                                          | 1900-01-01                                 | NA                                         | NA                                         | 1986-04-11                                 | 45150                                      | closed                                     | NA days                                    |\n",
       "| 1922 | 33832                                      | 2200 CLARK STREET, LONG BEACH, CA 90815    | 2200 CLARK STREET                          |                                            |                                            | LONG BEACH                                 |                                            | CA                                         | 90815                                      | 0                                          | 0                                          | 1900-01-01                                 | NA                                         | NA                                         | 1986-07-29                                 | 90815                                      | closed                                     | NA days                                    |\n",
       "| 654 | 34420                                      | 9TH & ALDER, PORTLAND, OR                  | 9TH & ALDER                                |                                            |                                            | PORTLAND                                   |                                            | OR                                         |    NA                                      | 0                                          | 0                                          | 1900-01-01                                 | NA                                         | NA                                         | 1986-10-21                                 | NA                                         | closed                                     | NA days                                    |\n",
       "| 7143 | 34585                                      | 536 GOLDEN GATE, SAN FRANCISCO, CA 94102   | 536 GOLDEN GATE                            |                                            |                                            | SAN FRANCISCO                              | SAN FRANCISCO                              | CA                                         | 94102                                      | 0                                          | 0                                          | 1900-01-01                                 | NA                                         | NA                                         | 1986-11-19                                 | 94102-3221                                 | closed                                     | NA days                                    |\n",
       "\n"
      ],
      "text/plain": [
       "     restid address                                    street1                \n",
       "3647 33220  HAMMOND DRIVE, SANDY SPRINGS, GA           HAMMOND DRIVE          \n",
       "809  33782  5325 MEMORIAL DRIVE, STONE MOUNTAIN, GA    5325 MEMORIAL DRIVE    \n",
       "682  33730  ST. RT. 28 & CINEMA DR., MILFORD, OH 45150 ST. RT. 28 & CINEMA DR.\n",
       "1922 33832  2200 CLARK STREET, LONG BEACH, CA 90815    2200 CLARK STREET      \n",
       "654  34420  9TH & ALDER, PORTLAND, OR                  9TH & ALDER            \n",
       "7143 34585  536 GOLDEN GATE, SAN FRANCISCO, CA 94102   536 GOLDEN GATE        \n",
       "     street2 street3 city           county        state zip   lon lat\n",
       "3647                 SANDY SPRINGS                GA       NA 0   0  \n",
       "809                  STONE MOUNTAIN               GA       NA 0   0  \n",
       "682                  MILFORD                      OH    45150 0   0  \n",
       "1922                 LONG BEACH                   CA    90815 0   0  \n",
       "654                  PORTLAND                     OR       NA 0   0  \n",
       "7143                 SAN FRANCISCO  SAN FRANCISCO CA    94102 0   0  \n",
       "     open       tempclose reopen close      longzip    status tempclose_time\n",
       "3647 1900-01-01 <NA>      <NA>   1983-04-27 NA         closed NA days       \n",
       "809  1900-01-01 <NA>      <NA>   1986-02-11 NA         closed NA days       \n",
       "682  1900-01-01 <NA>      <NA>   1986-04-11 45150      closed NA days       \n",
       "1922 1900-01-01 <NA>      <NA>   1986-07-29 90815      closed NA days       \n",
       "654  1900-01-01 <NA>      <NA>   1986-10-21 NA         closed NA days       \n",
       "7143 1900-01-01 <NA>      <NA>   1986-11-19 94102-3221 closed NA days       "
      ]
     },
     "metadata": {},
     "output_type": "display_data"
    }
   ],
   "source": [
    "#names(restaurants)\n",
    "head(restaurants)"
   ]
  },
  {
   "cell_type": "code",
   "execution_count": 74,
   "metadata": {},
   "outputs": [
    {
     "data": {
      "text/plain": [
       "\n",
       "       AK   AL   AR   AZ   CA   CO   CT   CU   DC   DE   FL   GA   HI   IA   ID \n",
       "  67   45  420  185  435 2254  324  150    1   31   49 1072  601   34   91   67 \n",
       "  IL   IN   KS   KY   LA   MA   MD   ME   MI   MN   MO   MS   MT   NC   ND   NE \n",
       " 629  483  201  308  260  218  232   52  571  215  576  137   37  463   21   97 \n",
       "  NH   NJ   NM   NV   NY   OH   OK   OR   PA   RI   SC   SD   TN   TX   UT   VA \n",
       "  72  361  131  151  543  688  259  258  524   29  238   41  470 1561  119  378 \n",
       "  VT   WA   WI   WV   WY \n",
       "  15  390  292   92   42 "
      ]
     },
     "metadata": {},
     "output_type": "display_data"
    }
   ],
   "source": [
    "table(restaurants$state)"
   ]
  },
  {
   "cell_type": "code",
   "execution_count": 63,
   "metadata": {},
   "outputs": [],
   "source": [
    "restaurants$state <- trimws(restaurants$state, \"both\")"
   ]
  },
  {
   "cell_type": "code",
   "execution_count": 68,
   "metadata": {},
   "outputs": [],
   "source": [
    "restaurants$state[restaurants$state==\"DIST OF COLUMBIA\"] <- \"DC\"\n",
    "restaurants$state[restaurants$state==\"LOS ANGELES\"] <- \"CA\"\n",
    "restaurants$state[restaurants$state==\"ALLEGANY\"] <- \"NY\"\n",
    "restaurants$state[restaurants$state==\"'\"] <- \"\"\n",
    "restaurants$state[restaurants$state==\"JEFFERSON\"] <- \"KY\""
   ]
  },
  {
   "cell_type": "code",
   "execution_count": 79,
   "metadata": {},
   "outputs": [
    {
     "data": {
      "text/plain": [
       "\n",
       "     AK  AL  AR  AZ  CA  CO  CT  CU  DC  DE  FL  GA  HI  IA  ID  IL  IN  KS  KY \n",
       " 31  16 128 107 178 870 159  48   1   4  16 404 238  31  57  30 257 227  95 142 \n",
       " LA  MA  MD  ME  MI  MN  MO  MS  MT  NC  ND  NE  NH  NJ  NM  NV  NY  OH  OK  OR \n",
       "129  62  98  17 274  78 206  75  17 235  14  49  19  84  58  76 178 342 104 103 \n",
       " PA  RI  SC  SD  TN  TX  UT  VA  VT  WA  WI  WV  WY \n",
       "154  16  93  15 216 615  66 186   5 138 131  49  13 "
      ]
     },
     "metadata": {},
     "output_type": "display_data"
    }
   ],
   "source": [
    "table(restaurants$state[restaurants$status==\"open\"])"
   ]
  },
  {
   "cell_type": "code",
   "execution_count": 87,
   "metadata": {},
   "outputs": [],
   "source": [
    "restaurants$tempclose_time <- restaurants$reopen - restaurants$tempclose"
   ]
  },
  {
   "cell_type": "code",
   "execution_count": 94,
   "metadata": {},
   "outputs": [
    {
     "data": {
      "text/html": [
       "<table>\n",
       "<thead><tr><th></th><th scope=col>restid</th><th scope=col>address</th><th scope=col>street1</th><th scope=col>street2</th><th scope=col>street3</th><th scope=col>city</th><th scope=col>county</th><th scope=col>state</th><th scope=col>zip</th><th scope=col>lon</th><th scope=col>lat</th><th scope=col>open</th><th scope=col>tempclose</th><th scope=col>reopen</th><th scope=col>close</th><th scope=col>longzip</th><th scope=col>status</th><th scope=col>tempclose_time</th></tr></thead>\n",
       "<tbody>\n",
       "\t<tr><th scope=row>3725</th><td>31702                                     </td><td>6104 UNIVERSITY AVE, SAN DIEGO, CA 92115  </td><td>6104 UNIVERSITY AVE                       </td><td>                                          </td><td>                                          </td><td>SAN DIEGO                                 </td><td>SAN DIEGO                                 </td><td>CA                                        </td><td>92115                                     </td><td>-117.064                                  </td><td>32.7531                                   </td><td>1965-12-06                                </td><td>2007-12-23                                </td><td>2008-04-12                                </td><td>NA                                        </td><td>92115                                     </td><td>open                                      </td><td>111 days                                  </td></tr>\n",
       "\t<tr><th scope=row>1969</th><td>31716                                     </td><td>5980 HOLLISTER AVENUE, GOLETA, CA 93117   </td><td>5980 HOLLISTER AVENUE                     </td><td>                                          </td><td>                                          </td><td>GOLETA                                    </td><td>SANTA BARBARA                             </td><td>CA                                        </td><td>93117                                     </td><td>-119.830                                  </td><td>34.4360                                   </td><td>1966-05-17                                </td><td>2008-08-12                                </td><td>2008-08-22                                </td><td>2011-11-30                                </td><td>93117                                     </td><td>closed                                    </td><td> 10 days                                  </td></tr>\n",
       "\t<tr><th scope=row>12733</th><td>31730                                     </td><td>9019 N 19TH AVE., PHOENIX, AZ 85021       </td><td>9019 N 19TH AVE.                          </td><td>                                          </td><td>                                          </td><td>PHOENIX                                   </td><td>MARICOPA                                  </td><td>AZ                                        </td><td>85021                                     </td><td>-112.099                                  </td><td>33.5687                                   </td><td>1966-06-02                                </td><td>2005-08-20                                </td><td>2006-03-01                                </td><td>NA                                        </td><td>85021-2909                                </td><td>open                                      </td><td>193 days                                  </td></tr>\n",
       "\t<tr><th scope=row>16302</th><td>31740                                     </td><td>2450 E INDIAN SCHOOL RD, PHOENIX, AZ 85016</td><td>2450 E INDIAN SCHOOL RD                   </td><td>                                          </td><td>                                          </td><td>PHOENIX                                   </td><td>MARICOPA                                  </td><td>AZ                                        </td><td>85016                                     </td><td>-112.029                                  </td><td>33.4949                                   </td><td>1966-09-09                                </td><td>2001-07-16                                </td><td>2001-09-01                                </td><td>NA                                        </td><td>85016                                     </td><td>open                                      </td><td> 47 days                                  </td></tr>\n",
       "\t<tr><th scope=row>2181</th><td>31759                                     </td><td>1300 W WHITTIER BLVD, LA HABRA, CA 90631  </td><td>1300 W WHITTIER BLVD                      </td><td>                                          </td><td>                                          </td><td>LA HABRA                                  </td><td>ORANGE                                    </td><td>CA                                        </td><td>90631                                     </td><td>-117.961                                  </td><td>33.9391                                   </td><td>1967-01-09                                </td><td>2008-02-03                                </td><td>2008-03-19                                </td><td>NA                                        </td><td>90631                                     </td><td>open                                      </td><td> 45 days                                  </td></tr>\n",
       "\t<tr><th scope=row>2477</th><td>31776                                     </td><td>1113 E COLORADO ST, GLENDALE, CA 91205    </td><td>1113 E COLORADO ST                        </td><td>                                          </td><td>                                          </td><td>GLENDALE                                  </td><td>LOS ANGELES                               </td><td>CA                                        </td><td>91205                                     </td><td>-118.241                                  </td><td>34.1427                                   </td><td>1967-07-07                                </td><td>2009-02-02                                </td><td>2009-03-26                                </td><td>NA                                        </td><td>91205                                     </td><td>open                                      </td><td> 52 days                                  </td></tr>\n",
       "</tbody>\n",
       "</table>\n"
      ],
      "text/latex": [
       "\\begin{tabular}{r|llllllllllllllllll}\n",
       "  & restid & address & street1 & street2 & street3 & city & county & state & zip & lon & lat & open & tempclose & reopen & close & longzip & status & tempclose\\_time\\\\\n",
       "\\hline\n",
       "\t3725 & 31702                                      & 6104 UNIVERSITY AVE, SAN DIEGO, CA 92115   & 6104 UNIVERSITY AVE                        &                                            &                                            & SAN DIEGO                                  & SAN DIEGO                                  & CA                                         & 92115                                      & -117.064                                   & 32.7531                                    & 1965-12-06                                 & 2007-12-23                                 & 2008-04-12                                 & NA                                         & 92115                                      & open                                       & 111 days                                  \\\\\n",
       "\t1969 & 31716                                      & 5980 HOLLISTER AVENUE, GOLETA, CA 93117    & 5980 HOLLISTER AVENUE                      &                                            &                                            & GOLETA                                     & SANTA BARBARA                              & CA                                         & 93117                                      & -119.830                                   & 34.4360                                    & 1966-05-17                                 & 2008-08-12                                 & 2008-08-22                                 & 2011-11-30                                 & 93117                                      & closed                                     &  10 days                                  \\\\\n",
       "\t12733 & 31730                                      & 9019 N 19TH AVE., PHOENIX, AZ 85021        & 9019 N 19TH AVE.                           &                                            &                                            & PHOENIX                                    & MARICOPA                                   & AZ                                         & 85021                                      & -112.099                                   & 33.5687                                    & 1966-06-02                                 & 2005-08-20                                 & 2006-03-01                                 & NA                                         & 85021-2909                                 & open                                       & 193 days                                  \\\\\n",
       "\t16302 & 31740                                      & 2450 E INDIAN SCHOOL RD, PHOENIX, AZ 85016 & 2450 E INDIAN SCHOOL RD                    &                                            &                                            & PHOENIX                                    & MARICOPA                                   & AZ                                         & 85016                                      & -112.029                                   & 33.4949                                    & 1966-09-09                                 & 2001-07-16                                 & 2001-09-01                                 & NA                                         & 85016                                      & open                                       &  47 days                                  \\\\\n",
       "\t2181 & 31759                                      & 1300 W WHITTIER BLVD, LA HABRA, CA 90631   & 1300 W WHITTIER BLVD                       &                                            &                                            & LA HABRA                                   & ORANGE                                     & CA                                         & 90631                                      & -117.961                                   & 33.9391                                    & 1967-01-09                                 & 2008-02-03                                 & 2008-03-19                                 & NA                                         & 90631                                      & open                                       &  45 days                                  \\\\\n",
       "\t2477 & 31776                                      & 1113 E COLORADO ST, GLENDALE, CA 91205     & 1113 E COLORADO ST                         &                                            &                                            & GLENDALE                                   & LOS ANGELES                                & CA                                         & 91205                                      & -118.241                                   & 34.1427                                    & 1967-07-07                                 & 2009-02-02                                 & 2009-03-26                                 & NA                                         & 91205                                      & open                                       &  52 days                                  \\\\\n",
       "\\end{tabular}\n"
      ],
      "text/markdown": [
       "\n",
       "| <!--/--> | restid | address | street1 | street2 | street3 | city | county | state | zip | lon | lat | open | tempclose | reopen | close | longzip | status | tempclose_time |\n",
       "|---|---|---|---|---|---|---|---|---|---|---|---|---|---|---|---|---|---|---|\n",
       "| 3725 | 31702                                      | 6104 UNIVERSITY AVE, SAN DIEGO, CA 92115   | 6104 UNIVERSITY AVE                        |                                            |                                            | SAN DIEGO                                  | SAN DIEGO                                  | CA                                         | 92115                                      | -117.064                                   | 32.7531                                    | 1965-12-06                                 | 2007-12-23                                 | 2008-04-12                                 | NA                                         | 92115                                      | open                                       | 111 days                                   |\n",
       "| 1969 | 31716                                      | 5980 HOLLISTER AVENUE, GOLETA, CA 93117    | 5980 HOLLISTER AVENUE                      |                                            |                                            | GOLETA                                     | SANTA BARBARA                              | CA                                         | 93117                                      | -119.830                                   | 34.4360                                    | 1966-05-17                                 | 2008-08-12                                 | 2008-08-22                                 | 2011-11-30                                 | 93117                                      | closed                                     |  10 days                                   |\n",
       "| 12733 | 31730                                      | 9019 N 19TH AVE., PHOENIX, AZ 85021        | 9019 N 19TH AVE.                           |                                            |                                            | PHOENIX                                    | MARICOPA                                   | AZ                                         | 85021                                      | -112.099                                   | 33.5687                                    | 1966-06-02                                 | 2005-08-20                                 | 2006-03-01                                 | NA                                         | 85021-2909                                 | open                                       | 193 days                                   |\n",
       "| 16302 | 31740                                      | 2450 E INDIAN SCHOOL RD, PHOENIX, AZ 85016 | 2450 E INDIAN SCHOOL RD                    |                                            |                                            | PHOENIX                                    | MARICOPA                                   | AZ                                         | 85016                                      | -112.029                                   | 33.4949                                    | 1966-09-09                                 | 2001-07-16                                 | 2001-09-01                                 | NA                                         | 85016                                      | open                                       |  47 days                                   |\n",
       "| 2181 | 31759                                      | 1300 W WHITTIER BLVD, LA HABRA, CA 90631   | 1300 W WHITTIER BLVD                       |                                            |                                            | LA HABRA                                   | ORANGE                                     | CA                                         | 90631                                      | -117.961                                   | 33.9391                                    | 1967-01-09                                 | 2008-02-03                                 | 2008-03-19                                 | NA                                         | 90631                                      | open                                       |  45 days                                   |\n",
       "| 2477 | 31776                                      | 1113 E COLORADO ST, GLENDALE, CA 91205     | 1113 E COLORADO ST                         |                                            |                                            | GLENDALE                                   | LOS ANGELES                                | CA                                         | 91205                                      | -118.241                                   | 34.1427                                    | 1967-07-07                                 | 2009-02-02                                 | 2009-03-26                                 | NA                                         | 91205                                      | open                                       |  52 days                                   |\n",
       "\n"
      ],
      "text/plain": [
       "      restid address                                    street1                \n",
       "3725  31702  6104 UNIVERSITY AVE, SAN DIEGO, CA 92115   6104 UNIVERSITY AVE    \n",
       "1969  31716  5980 HOLLISTER AVENUE, GOLETA, CA 93117    5980 HOLLISTER AVENUE  \n",
       "12733 31730  9019 N 19TH AVE., PHOENIX, AZ 85021        9019 N 19TH AVE.       \n",
       "16302 31740  2450 E INDIAN SCHOOL RD, PHOENIX, AZ 85016 2450 E INDIAN SCHOOL RD\n",
       "2181  31759  1300 W WHITTIER BLVD, LA HABRA, CA 90631   1300 W WHITTIER BLVD   \n",
       "2477  31776  1113 E COLORADO ST, GLENDALE, CA 91205     1113 E COLORADO ST     \n",
       "      street2 street3 city      county        state zip   lon      lat    \n",
       "3725                  SAN DIEGO SAN DIEGO     CA    92115 -117.064 32.7531\n",
       "1969                  GOLETA    SANTA BARBARA CA    93117 -119.830 34.4360\n",
       "12733                 PHOENIX   MARICOPA      AZ    85021 -112.099 33.5687\n",
       "16302                 PHOENIX   MARICOPA      AZ    85016 -112.029 33.4949\n",
       "2181                  LA HABRA  ORANGE        CA    90631 -117.961 33.9391\n",
       "2477                  GLENDALE  LOS ANGELES   CA    91205 -118.241 34.1427\n",
       "      open       tempclose  reopen     close      longzip    status\n",
       "3725  1965-12-06 2007-12-23 2008-04-12 <NA>       92115      open  \n",
       "1969  1966-05-17 2008-08-12 2008-08-22 2011-11-30 93117      closed\n",
       "12733 1966-06-02 2005-08-20 2006-03-01 <NA>       85021-2909 open  \n",
       "16302 1966-09-09 2001-07-16 2001-09-01 <NA>       85016      open  \n",
       "2181  1967-01-09 2008-02-03 2008-03-19 <NA>       90631      open  \n",
       "2477  1967-07-07 2009-02-02 2009-03-26 <NA>       91205      open  \n",
       "      tempclose_time\n",
       "3725  111 days      \n",
       "1969   10 days      \n",
       "12733 193 days      \n",
       "16302  47 days      \n",
       "2181   45 days      \n",
       "2477   52 days      "
      ]
     },
     "metadata": {},
     "output_type": "display_data"
    }
   ],
   "source": [
    "head(restaurants[!is.na(restaurants$tempclose_time), ])"
   ]
  },
  {
   "cell_type": "code",
   "execution_count": 102,
   "metadata": {},
   "outputs": [
    {
     "data": {
      "text/html": [
       "1943"
      ],
      "text/latex": [
       "1943"
      ],
      "text/markdown": [
       "1943"
      ],
      "text/plain": [
       "[1] 1943"
      ]
     },
     "metadata": {},
     "output_type": "display_data"
    },
    {
     "data": {
      "text/plain": [
       "   Min. 1st Qu.  Median    Mean 3rd Qu.    Max.    NA's \n",
       "   1.00   11.00   51.00   73.17  105.50 1501.00   15037 "
      ]
     },
     "metadata": {},
     "output_type": "display_data"
    }
   ],
   "source": [
    "length(restaurants$restid[!is.na(restaurants$tempclose_time)])\n",
    "summary(as.numeric(restaurants$tempclose_time))"
   ]
  },
  {
   "cell_type": "code",
   "execution_count": 83,
   "metadata": {
    "scrolled": true
   },
   "outputs": [],
   "source": [
    "write.csv(x=restaurants, file=\"restaurants-clean.csv\", row.names=FALSE)"
   ]
  },
  {
   "cell_type": "markdown",
   "metadata": {},
   "source": [
    "### clean up longitude and latitude data"
   ]
  },
  {
   "cell_type": "code",
   "execution_count": 15,
   "metadata": {},
   "outputs": [
    {
     "data": {
      "text/plain": [
       "    Min.  1st Qu.   Median     Mean  3rd Qu.     Max.     NA's \n",
       " -159.38   -94.98   -82.50   -59.28     0.00 40213.00        5 "
      ]
     },
     "metadata": {},
     "output_type": "display_data"
    }
   ],
   "source": [
    "summary(restaurants$lon)"
   ]
  },
  {
   "cell_type": "code",
   "execution_count": 16,
   "metadata": {},
   "outputs": [
    {
     "data": {
      "text/plain": [
       "    Min.  1st Qu.   Median     Mean  3rd Qu.     Max.     NA's \n",
       "    0.00     0.00     0.00    14.44     0.00 40213.00        5 "
      ]
     },
     "metadata": {},
     "output_type": "display_data"
    }
   ],
   "source": [
    "summary(restaurants$lon[restaurants$lon>=0])"
   ]
  },
  {
   "cell_type": "code",
   "execution_count": 17,
   "metadata": {},
   "outputs": [
    {
     "ename": "ERROR",
     "evalue": "Error in png(tf, width, height, \"in\", pointsize, bg, res, antialias = antialias): unable to start png() device\n",
     "output_type": "error",
     "traceback": [
      "Error in png(tf, width, height, \"in\", pointsize, bg, res, antialias = antialias): unable to start png() device\nTraceback:\n"
     ]
    },
    {
     "data": {
      "text/plain": [
       "Plot with title \"Histogram of restaurants$lon\""
      ]
     },
     "metadata": {},
     "output_type": "display_data"
    }
   ],
   "source": [
    "hist(restaurants$lon)"
   ]
  }
 ],
 "metadata": {
  "kernelspec": {
   "display_name": "R",
   "language": "R",
   "name": "ir"
  },
  "language_info": {
   "codemirror_mode": "r",
   "file_extension": ".r",
   "mimetype": "text/x-r-source",
   "name": "R",
   "pygments_lexer": "r",
   "version": "3.6.0"
  }
 },
 "nbformat": 4,
 "nbformat_minor": 2
}
