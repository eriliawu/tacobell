{
 "cells": [
  {
   "cell_type": "code",
   "execution_count": 9,
   "metadata": {},
   "outputs": [
    {
     "name": "stdout",
     "output_type": "stream",
     "text": [
      "exit status:  0\n"
     ]
    }
   ],
   "source": [
    "import paramiko\n",
    "import sys\n",
    "\n",
    "nbytes = 4096\n",
    "hostname = 'bigpurple.nyumc.org'\n",
    "port = 22\n",
    "username = 'wue04' \n",
    "password = '531531Clove#'\n",
    "command = 'ls'\n",
    "\n",
    "client = paramiko.Transport((hostname, port))\n",
    "client.connect(username=username, password=password)\n",
    "\n",
    "stdout_data = []\n",
    "stderr_data = []\n",
    "session = client.open_channel(kind='session')\n",
    "session.exec_command(command)\n",
    "while True:\n",
    "    if session.recv_ready():\n",
    "        stdout_data.append(session.recv(nbytes))\n",
    "    if session.recv_stderr_ready():\n",
    "        stderr_data.append(session.recv_stderr(nbytes))\n",
    "    if session.exit_status_ready():\n",
    "        break\n",
    "\n",
    "print('exit status: ', session.recv_exit_status())\n",
    "#print(''.join(stdout_data))\n",
    "#print(''.join(stderr_data))\n",
    "\n",
    "#session.close()\n",
    "#client.close()"
   ]
  },
  {
   "cell_type": "code",
   "execution_count": 10,
   "metadata": {},
   "outputs": [
    {
     "name": "stdout",
     "output_type": "stream",
     "text": [
      " Volume in drive C has no label.\n",
      " Volume Serial Number is 3C72-89CD\n",
      "\n",
      " Directory of C:\\Users\\wue04\\Box Sync\\tacobell\n",
      "\n",
      "08/07/2019  05:18 PM    <DIR>          .\n",
      "08/07/2019  05:18 PM    <DIR>          ..\n",
      "07/25/2019  03:57 PM                68 .gitignore\n",
      "08/02/2019  04:27 PM    <DIR>          .ipynb_checkpoints\n",
      "07/10/2019  10:55 AM    <DIR>          data\n",
      "08/07/2019  11:30 AM    <DIR>          data-schema\n",
      "08/02/2019  03:32 PM    <DIR>          presentations\n",
      "08/02/2019  04:59 PM    <DIR>          raw-output\n",
      "07/10/2019  11:11 AM               108 README.md\n",
      "08/07/2019  04:22 PM            97,705 restaurant-map.ipynb\n",
      "08/07/2019  05:01 PM    <DIR>          tables\n",
      "08/07/2019  04:16 PM            51,756 transaction-id.sql\n",
      "08/07/2019  05:18 PM             2,310 Untitled.ipynb\n",
      "               5 File(s)        151,947 bytes\n",
      "               8 Dir(s)  375,087,964,160 bytes free\n"
     ]
    },
    {
     "name": "stderr",
     "output_type": "stream",
     "text": [
      "Socket exception: An existing connection was forcibly closed by the remote host (10054)\n",
      "Socket exception: An existing connection was forcibly closed by the remote host (10054)\n"
     ]
    }
   ],
   "source": [
    "ls"
   ]
  },
  {
   "cell_type": "code",
   "execution_count": null,
   "metadata": {},
   "outputs": [],
   "source": []
  }
 ],
 "metadata": {
  "kernelspec": {
   "display_name": "Python 3",
   "language": "python",
   "name": "python3"
  },
  "language_info": {
   "codemirror_mode": {
    "name": "ipython",
    "version": 3
   },
   "file_extension": ".py",
   "mimetype": "text/x-python",
   "name": "python",
   "nbconvert_exporter": "python",
   "pygments_lexer": "ipython3",
   "version": "3.7.3"
  }
 },
 "nbformat": 4,
 "nbformat_minor": 2
}
