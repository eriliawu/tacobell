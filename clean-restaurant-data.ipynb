{
 "cells": [
  {
   "cell_type": "markdown",
   "metadata": {},
   "source": [
    "# Import and clean restaurant data"
   ]
  },
  {
   "cell_type": "code",
   "execution_count": 247,
   "metadata": {},
   "outputs": [
    {
     "data": {
      "text/html": [
       "'C:/Users/wue04/Box Sync/tacobell/raw-output'"
      ],
      "text/latex": [
       "'C:/Users/wue04/Box Sync/tacobell/raw-output'"
      ],
      "text/markdown": [
       "'C:/Users/wue04/Box Sync/tacobell/raw-output'"
      ],
      "text/plain": [
       "[1] \"C:/Users/wue04/Box Sync/tacobell/raw-output\""
      ]
     },
     "metadata": {},
     "output_type": "display_data"
    }
   ],
   "source": [
    "getwd()\n",
    "setwd(\"raw-output\")"
   ]
  },
  {
   "cell_type": "markdown",
   "metadata": {},
   "source": [
    "### suppress warnings messages"
   ]
  },
  {
   "cell_type": "code",
   "execution_count": 139,
   "metadata": {},
   "outputs": [],
   "source": [
    "current_warning <- getOption(\"warn\")\n",
    "options(warn = -1)"
   ]
  },
  {
   "cell_type": "markdown",
   "metadata": {},
   "source": [
    "### reset warning to normal"
   ]
  },
  {
   "cell_type": "code",
   "execution_count": null,
   "metadata": {},
   "outputs": [],
   "source": [
    "options(warn = current_warning)"
   ]
  },
  {
   "cell_type": "markdown",
   "metadata": {},
   "source": [
    "### read sample data"
   ]
  },
  {
   "cell_type": "code",
   "execution_count": 37,
   "metadata": {},
   "outputs": [],
   "source": [
    "sample <- read.csv(\"restaurants.csv\", sep = \";\", header = FALSE, nrow=10, quote = \"\")\n",
    "head(sample)\n",
    "sapply(sample, class)"
   ]
  },
  {
   "cell_type": "markdown",
   "metadata": {},
   "source": [
    "### read in data"
   ]
  },
  {
   "cell_type": "code",
   "execution_count": 249,
   "metadata": {
    "scrolled": false
   },
   "outputs": [],
   "source": [
    "# clean up restaurants\n",
    "restaurants <- read.csv(\"restaurants.csv\", sep = \";\", header = FALSE, quote = \"\", stringsAsFactors=FALSE,\n",
    "                        col.names = c(\"restid\", \"address1\", \"address2\", \"address3\",\n",
    "                                      \"city\", \"county\", \"state\", \"zip\", \"lon\", \"lat\",\n",
    "                                      \"open\", \"tempclose\", \"reopen\", \"close\"))\n",
    "head(restaurants)\n",
    "length(unique(restaurants$restid))"
   ]
  },
  {
   "cell_type": "markdown",
   "metadata": {},
   "source": [
    "### house cleaning"
   ]
  },
  {
   "cell_type": "code",
   "execution_count": null,
   "metadata": {},
   "outputs": [],
   "source": [
    "sapply(restaurants, class) # check variables types\n",
    "restaurants[, c(1, 9:10)] <- lapply(restaurants[, c(1, 9:10)], as.numeric) # convert geo coordinates to numeric\n",
    "#restaurants[(100:120), ] #sanity check\n",
    "\n",
    "convert_to_date <- function(x) {\n",
    "    # replace 0000-00-00 dates as NA\n",
    "    x[x==\"0000-00-00\"] <- NA\n",
    "    # convert characters to dates\n",
    "    x <- as.Date(x)\n",
    "    return(x)\n",
    "    print(class(x))\n",
    "}\n",
    "restaurants[, 11:14] <- lapply(restaurants[, 11:14], convert_to_date)\n",
    "rm(convert_to_date)\n",
    "sapply(restaurants, class) #check classes again\n",
    "restaurants$address1[restaurants$address1==\"N/A\"] <- NA\n",
    "restaurants$city[restaurants$city==\"N/A\"] <- NA\n",
    "restaurants$zip[restaurants$zip==\"\"] <- NA\n",
    "restaurants <- restaurants[order(restaurants$open, restaurants$close), ]"
   ]
  },
  {
   "cell_type": "code",
   "execution_count": 65,
   "metadata": {
    "scrolled": true
   },
   "outputs": [],
   "source": [
    "restaurants[900:920, c(1:2, 5, 7:14)] #sanity check"
   ]
  },
  {
   "cell_type": "code",
   "execution_count": null,
   "metadata": {},
   "outputs": [],
   "source": [
    "# create index for restaurant status\n",
    "# closed, planned, open\n",
    "restaurants$status <- NULL\n",
    "length(restaurants$restid)\n",
    "restaurants$status[is.na(restaurants$close) & !is.na(restaurants$open)] <- \"open\"\n",
    "restaurants$status[!is.na(restaurants$close)] <- \"closed\"\n",
    "restaurants$status[is.na(restaurants$close) & is.na(restaurants$open)] <- \"planned\"\n",
    "table(restaurants$status)"
   ]
  },
  {
   "cell_type": "code",
   "execution_count": null,
   "metadata": {},
   "outputs": [],
   "source": [
    "# clean up address data\n",
    "colnames(restaurants)[c(2:4, 8)] <- c(\"street1\", \"street2\", \"street3\", \"longzip\")\n",
    "restaurants$longzip[restaurants$longzip==\"NA\" ] <- NA\n",
    "class(restaurants$longzip)\n",
    "restaurants$zip <- substr(restaurants$longzip, 1, 5)\n",
    "restaurants$zip <- as.numeric(restaurants$zip)\n",
    "restaurants$address <- paste(restaurants$street1, restaurants$city, paste(restaurants$state, restaurants$zip),\n",
    "                             sep=\", \")\n",
    "restaurants$address <- sub(pattern=\" NA$\", replacement=\"\", restaurants$address)"
   ]
  },
  {
   "cell_type": "code",
   "execution_count": 171,
   "metadata": {},
   "outputs": [],
   "source": [
    "restaurants$longzip <- trimws(restaurants$longzip, \"both\")"
   ]
  },
  {
   "cell_type": "code",
   "execution_count": 172,
   "metadata": {},
   "outputs": [],
   "source": [
    "restaurants <- restaurants[, c(\"restid\", \"address\", \"street1\", \"street2\", \"street3\", \"city\", \"county\",\n",
    "                              \"state\", \"zip\", \"lon\", \"lat\", \"status\", \"open\", \"tempclose\", \"reopen\", \"close\",\n",
    "                               \"longzip\")]"
   ]
  },
  {
   "cell_type": "code",
   "execution_count": 250,
   "metadata": {},
   "outputs": [],
   "source": [
    "names(restaurants)\n",
    "head(restaurants)"
   ]
  },
  {
   "cell_type": "code",
   "execution_count": 251,
   "metadata": {},
   "outputs": [],
   "source": [
    "table(restaurants$state)"
   ]
  },
  {
   "cell_type": "code",
   "execution_count": 174,
   "metadata": {},
   "outputs": [],
   "source": [
    "restaurants$state <- trimws(restaurants$state, \"both\")"
   ]
  },
  {
   "cell_type": "code",
   "execution_count": 175,
   "metadata": {},
   "outputs": [],
   "source": [
    "restaurants$state[restaurants$state==\"DIST OF COLUMBIA\"] <- \"DC\"\n",
    "restaurants$state[restaurants$state==\"LOS ANGELES\"] <- \"CA\"\n",
    "restaurants$state[restaurants$state==\"ALLEGANY\"] <- \"NY\"\n",
    "restaurants$state[restaurants$state==\"'\"] <- \"\"\n",
    "restaurants$state[restaurants$state==\"JEFFERSON\"] <- \"KY\""
   ]
  },
  {
   "cell_type": "code",
   "execution_count": 252,
   "metadata": {},
   "outputs": [],
   "source": [
    "table(restaurants$state[restaurants$status==\"open\"])"
   ]
  },
  {
   "cell_type": "code",
   "execution_count": 178,
   "metadata": {},
   "outputs": [],
   "source": [
    "restaurants$tempclose_time <- restaurants$reopen - restaurants$tempclose"
   ]
  },
  {
   "cell_type": "code",
   "execution_count": 253,
   "metadata": {},
   "outputs": [],
   "source": [
    "head(restaurants[!is.na(restaurants$tempclose_time), ])"
   ]
  },
  {
   "cell_type": "code",
   "execution_count": null,
   "metadata": {},
   "outputs": [],
   "source": [
    "length(restaurants$restid[!is.na(restaurants$tempclose_time)])\n",
    "summary(as.numeric(restaurants$tempclose_time))"
   ]
  },
  {
   "cell_type": "markdown",
   "metadata": {},
   "source": [
    "### clean up longitude and latitude data"
   ]
  },
  {
   "cell_type": "code",
   "execution_count": null,
   "metadata": {},
   "outputs": [],
   "source": [
    "summary(restaurants$lon)"
   ]
  },
  {
   "cell_type": "code",
   "execution_count": null,
   "metadata": {},
   "outputs": [],
   "source": [
    "summary(restaurants$lon[restaurants$lon>=0])"
   ]
  },
  {
   "cell_type": "markdown",
   "metadata": {},
   "source": [
    "### import lon/lat geocoded by census bureau"
   ]
  },
  {
   "cell_type": "code",
   "execution_count": 182,
   "metadata": {},
   "outputs": [],
   "source": [
    "geocode_all <- c(0)\n",
    "for (i in 1:2) {\n",
    "    geocode <- read.csv(paste(\"geocoding-restaurants/GeocodeResults\", i, \".csv\", sep=\"\"),\n",
    "                        header=FALSE, stringsAsFactors=FALSE)\n",
    "    geocode <- geocode[order(geocode$V1), ]\n",
    "    \n",
    "    geocode_all <- rbind(geocode_all, geocode)\n",
    "}\n",
    "geocode_all <- geocode_all[-1, c(2:3, 6, 9:12)]\n",
    "colnames(geocode_all)[1:7] <- c(\"address2\", \"match\", \"coords\", \"state\", \"county\", \"tract\", \"block\")"
   ]
  },
  {
   "cell_type": "code",
   "execution_count": null,
   "metadata": {},
   "outputs": [],
   "source": [
    "dim(restaurants)\n",
    "dim(geocode_all)"
   ]
  },
  {
   "cell_type": "code",
   "execution_count": 184,
   "metadata": {},
   "outputs": [],
   "source": [
    "restaurants <- cbind(restaurants, geocode_all)"
   ]
  },
  {
   "cell_type": "code",
   "execution_count": null,
   "metadata": {},
   "outputs": [],
   "source": [
    "names(restaurants)\n",
    "dim(restaurants)"
   ]
  },
  {
   "cell_type": "code",
   "execution_count": 189,
   "metadata": {},
   "outputs": [],
   "source": [
    "#sapply(restaurants, class)\n",
    "restaurants <- restaurants[, -c(19:20)]"
   ]
  },
  {
   "cell_type": "code",
   "execution_count": 195,
   "metadata": {},
   "outputs": [],
   "source": [
    "restaurants$lon2 <- sapply(strsplit(restaurants$coords, \",\"), \"[\", 1)"
   ]
  },
  {
   "cell_type": "code",
   "execution_count": 197,
   "metadata": {},
   "outputs": [],
   "source": [
    "restaurants$lat2 <- sapply(strsplit(restaurants$coords, \",\"), \"[\", 2)"
   ]
  },
  {
   "cell_type": "code",
   "execution_count": 207,
   "metadata": {},
   "outputs": [],
   "source": [
    "restaurants$lon2 <- as.numeric(restaurants$lon2)\n",
    "restaurants$lat2 <- as.numeric(restaurants$lat2)"
   ]
  },
  {
   "cell_type": "code",
   "execution_count": 228,
   "metadata": {},
   "outputs": [
    {
     "data": {
      "text/html": [
       "'numeric'"
      ],
      "text/latex": [
       "'numeric'"
      ],
      "text/markdown": [
       "'numeric'"
      ],
      "text/plain": [
       "[1] \"numeric\""
      ]
     },
     "metadata": {},
     "output_type": "display_data"
    }
   ],
   "source": [
    "head(restaurants[(restaurants$lat>0.0000 & is.na(restaurants$lat2)), c(\"lon\", \"lat\", \"lon2\", \"lat2\")])\n",
    "class(restaurants$lon)"
   ]
  },
  {
   "cell_type": "code",
   "execution_count": 254,
   "metadata": {},
   "outputs": [],
   "source": [
    "length(restaurants$restid[restaurants$lon<0.0000 & is.na(restaurants$lon2)])"
   ]
  },
  {
   "cell_type": "code",
   "execution_count": 221,
   "metadata": {},
   "outputs": [],
   "source": [
    "restaurants$lon2 <- ifelse(test=(restaurants$lon<0.0000 & is.na(restaurants$lon2)),\n",
    "                           restaurants$lon, restaurants$lon2)\n",
    "restaurants$lat2 <- ifelse(test=(restaurants$lat>0.0000 & is.na(restaurants$lat2)),\n",
    "                           restaurants$lat, restaurants$lat2)"
   ]
  },
  {
   "cell_type": "code",
   "execution_count": 231,
   "metadata": {},
   "outputs": [],
   "source": [
    "restaurants$coords <- NULL"
   ]
  },
  {
   "cell_type": "code",
   "execution_count": 240,
   "metadata": {},
   "outputs": [],
   "source": [
    "colnames(restaurants)[1:24] <- c(\"restid\", \"address\", \"street1\", \"street2\", \"street3\", \"city\", \"county\", \n",
    "                                 \"state\", \"zip\", \"lon_fromtb\", \"lat_fromtb\", \"status\", \"open\", \"tempclose\",\n",
    "                                 \"reopen\", \"close\",\n",
    "                                 \"longzip\", \"tempclose_time\", \"state_num\", \"county_num\", \"tract\", \"block\",\n",
    "                                 \"lon\", \"lat\")"
   ]
  },
  {
   "cell_type": "code",
   "execution_count": 244,
   "metadata": {},
   "outputs": [],
   "source": [
    "restaurants <- restaurants[c(\"restid\", \"address\", \"city\", \"state\", \"zip\",\n",
    "                             \"status\", \"open\", \"tempclose\", \"reopen\", \"close\", \"tempclose_time\",\n",
    "                             \"lon\", \"lat\",\n",
    "                             \"state_num\", \"county_num\", \"tract\", \"block\",\n",
    "                             \"street1\", \"street2\", \"street3\",\"county\", \"lon_fromtb\", \"lat_fromtb\", \"longzip\")]"
   ]
  },
  {
   "cell_type": "code",
   "execution_count": 255,
   "metadata": {},
   "outputs": [],
   "source": [
    "names(restaurants)"
   ]
  },
  {
   "cell_type": "code",
   "execution_count": 246,
   "metadata": {
    "scrolled": true
   },
   "outputs": [],
   "source": [
    "write.csv(x=restaurants, file=\"restaurants-clean.csv\", row.names=FALSE)"
   ]
  }
 ],
 "metadata": {
  "kernelspec": {
   "display_name": "R",
   "language": "R",
   "name": "ir"
  },
  "language_info": {
   "codemirror_mode": "r",
   "file_extension": ".r",
   "mimetype": "text/x-r-source",
   "name": "R",
   "pygments_lexer": "r",
   "version": "3.6.0"
  }
 },
 "nbformat": 4,
 "nbformat_minor": 2
}
